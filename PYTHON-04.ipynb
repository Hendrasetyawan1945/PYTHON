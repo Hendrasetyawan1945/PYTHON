{
 "cells": [
  {
   "cell_type": "code",
   "execution_count": 3,
   "metadata": {},
   "outputs": [
    {
     "name": "stdout",
     "output_type": "stream",
     "text": [
      "['R', 'a', 'd', 'e', 'n', ' ', 'H', 'e', 'n', 'd', 'r', 'a', ' ', 'K', 'e', 'r', 't', 'a', 'p', 'a', 'i']\n",
      "('R', 'a', 'd', 'e', 'n', ' ', 'H', 'e', 'n', 'd', 'r', 'a', ' ', 'K', 'e', 'r', 't', 'a', 'p', 'a', 'i')\n",
      "{'n', 'd', 'a', 'H', 't', 'r', 'i', 'p', ' ', 'e', 'K', 'R'}\n"
     ]
    }
   ],
   "source": [
    "listx = list(\"Raden Hendra Kertapai\")\n",
    "print(listx)\n",
    "tuplex = tuple(\"Raden Hendra Kertapai\")\n",
    "print(tuplex)\n",
    "setx = set(\"Raden Hendra Kertapai\")\n",
    "print(setx)\n"
   ]
  },
  {
   "cell_type": "code",
   "execution_count": null,
   "metadata": {},
   "outputs": [],
   "source": []
  },
  {
   "cell_type": "code",
   "execution_count": 4,
   "metadata": {},
   "outputs": [
    {
     "name": "stdout",
     "output_type": "stream",
     "text": [
      "<class 'dict'>\n",
      "{'nama': 'hendra', 'nim': '2019610004', 'jurusan': 'informatika'}\n",
      "{'nama': 'hendra', 'nim': '2019610004', 'jurusan': 'informatika', 'semester': '8', 'jabatan': 'asisten_dosen'}\n",
      "{'nama': 'hendra', 'nim': '2019610004', 'jurusan': 'informatika', 'semester': '8'}\n"
     ]
    }
   ],
   "source": [
    "d1 = {\"nama\":\"hendra\",\"nim\":\"2019610004\"}\n",
    "print(type(d1))\n",
    "d1[\"jurusan\"] = \"informatika\"\n",
    "print(d1)\n",
    "d2 = {\"semester\":\"8\",\"jabatan\":\"asisten_dosen\"} \n",
    "d1.update(d2)\n",
    "print(d1)\n",
    "d1.popitem()\n",
    "print(d1)\n"
   ]
  },
  {
   "cell_type": "code",
   "execution_count": 7,
   "metadata": {},
   "outputs": [
    {
     "name": "stdout",
     "output_type": "stream",
     "text": [
      "C\n"
     ]
    }
   ],
   "source": [
    "a =int(input(\"masukan bilangan : \"))\n",
    "print('A') if a > 9 else print('B') if a > 7 else print('C')"
   ]
  },
  {
   "cell_type": "code",
   "execution_count": 17,
   "metadata": {},
   "outputs": [
    {
     "name": "stdout",
     "output_type": "stream",
     "text": [
      "B\n"
     ]
    }
   ],
   "source": [
    "x = int(input(\"masukan nilai : \"))\n",
    "if x > 8 :\n",
    "    print('A')\n",
    "elif 6 < x <=8:\n",
    "    print('B')\n",
    "else:\n",
    "    print('C')        "
   ]
  },
  {
   "cell_type": "code",
   "execution_count": 18,
   "metadata": {},
   "outputs": [
    {
     "name": "stdout",
     "output_type": "stream",
     "text": [
      "0\n",
      "1\n",
      "2\n",
      "3\n",
      "4\n"
     ]
    }
   ],
   "source": [
    "x = int(input(\"masukan nilai : \"))\n",
    "for i in range(x+1):\n",
    "    print(i)"
   ]
  },
  {
   "cell_type": "code",
   "execution_count": 19,
   "metadata": {},
   "outputs": [
    {
     "name": "stdout",
     "output_type": "stream",
     "text": [
      "0\n",
      "2\n",
      "4\n",
      "6\n",
      "8\n",
      "10\n"
     ]
    }
   ],
   "source": [
    "x = int(input(\"masukan nilai : \"))\n",
    "for i in range(0, x+1, 2):\n",
    "    print(i)\n"
   ]
  },
  {
   "cell_type": "code",
   "execution_count": 11,
   "metadata": {},
   "outputs": [
    {
     "name": "stdout",
     "output_type": "stream",
     "text": [
      "None\n"
     ]
    }
   ],
   "source": [
    "from numpy import mod\n",
    "\n",
    "\n",
    "x =20\n",
    "list1=[]\n",
    "for i in range(20,2,-1):\n",
    "    x=list1.append(i)\n",
    "    \n",
    "print(x)    \n",
    "   \n"
   ]
  },
  {
   "cell_type": "code",
   "execution_count": 10,
   "metadata": {},
   "outputs": [
    {
     "name": "stdout",
     "output_type": "stream",
     "text": [
      "hehehehehh\n",
      "oalahh hehehehehh\n"
     ]
    }
   ],
   "source": [
    "x = input(\"Masukan Minuman : \")\n",
    "x1=x.strip().replace(\" \", \"\")\n",
    "print(x1)\n",
    "if x1 == 'kopi':\n",
    "    print(\"minuman kita same :{}\".format(x1))\n",
    "elif x1 == \"susu\" :\n",
    "    print(\"minum : {} sehat\".format(x1))    \n",
    "else :\n",
    "    print(\"oalahh {}\".format(x1))"
   ]
  },
  {
   "cell_type": "code",
   "execution_count": 41,
   "metadata": {},
   "outputs": [
    {
     "name": "stdout",
     "output_type": "stream",
     "text": [
      "10.0\n",
      "9.5\n",
      "9.0\n",
      "8.5\n",
      "8.0\n",
      "7.5\n",
      "7.0\n",
      "6.5\n",
      "6.0\n",
      "5.5\n",
      "5.0\n",
      "4.5\n",
      "4.0\n",
      "3.5\n",
      "3.0\n",
      "2.5\n",
      "2.0\n",
      "1.5\n",
      "1.0\n"
     ]
    }
   ],
   "source": [
    "\n",
    "x =20\n",
    "for i in range(20,1,-1):\n",
    "    print(i/2)\n"
   ]
  },
  {
   "cell_type": "code",
   "execution_count": 33,
   "metadata": {},
   "outputs": [
    {
     "name": "stdout",
     "output_type": "stream",
     "text": [
      "mangga\n",
      "rambutan\n",
      "durian\n",
      "nanas\n",
      "stop\n",
      "['mangga', 'rambutan', 'durian', 'nanas', 'kuldi', 'pisang']\n"
     ]
    }
   ],
   "source": [
    "buah = ['mangga','rambutan','durian','nanas','manggis','pisang']\n",
    "for i in (buah):\n",
    "    if  i == 'rambutan':\n",
    "        print(i)\n",
    "        continue\n",
    "    elif i == 'manggis':\n",
    "        index = buah.index('manggis')\n",
    "        buah[index]='kuldi'\n",
    "        print(\"stop\")\n",
    "        break\n",
    "    print(i)\n",
    "else :\n",
    "    print('sudah dicetak')\n",
    "    \n",
    "print(buah)       \n",
    "    \n",
    "    \n",
    "\n",
    "        "
   ]
  }
 ],
 "metadata": {
  "kernelspec": {
   "display_name": "Python 3.9.5 64-bit",
   "language": "python",
   "name": "python3"
  },
  "language_info": {
   "codemirror_mode": {
    "name": "ipython",
    "version": 3
   },
   "file_extension": ".py",
   "mimetype": "text/x-python",
   "name": "python",
   "nbconvert_exporter": "python",
   "pygments_lexer": "ipython3",
   "version": "3.9.5"
  },
  "orig_nbformat": 4,
  "vscode": {
   "interpreter": {
    "hash": "82ed002fa2d4956f5c6aec99bcefe0f73a9f79882f3c9e2319b14958a5896ac5"
   }
  }
 },
 "nbformat": 4,
 "nbformat_minor": 2
}
