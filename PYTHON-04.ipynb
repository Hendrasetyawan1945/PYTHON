{
 "cells": [
  {
   "cell_type": "code",
   "execution_count": 3,
   "metadata": {},
   "outputs": [
    {
     "name": "stdout",
     "output_type": "stream",
     "text": [
      "['R', 'a', 'd', 'e', 'n', ' ', 'H', 'e', 'n', 'd', 'r', 'a', ' ', 'K', 'e', 'r', 't', 'a', 'p', 'a', 'i']\n",
      "('R', 'a', 'd', 'e', 'n', ' ', 'H', 'e', 'n', 'd', 'r', 'a', ' ', 'K', 'e', 'r', 't', 'a', 'p', 'a', 'i')\n",
      "{'n', 'd', 'a', 'H', 't', 'r', 'i', 'p', ' ', 'e', 'K', 'R'}\n"
     ]
    }
   ],
   "source": [
    "listx = list(\"Raden Hendra Kertapai\")\n",
    "print(listx)\n",
    "tuplex = tuple(\"Raden Hendra Kertapai\")\n",
    "print(tuplex)\n",
    "setx = set(\"Raden Hendra Kertapai\")\n",
    "print(setx)\n"
   ]
  },
  {
   "cell_type": "code",
   "execution_count": null,
   "metadata": {},
   "outputs": [],
   "source": []
  },
  {
   "cell_type": "code",
   "execution_count": 4,
   "metadata": {},
   "outputs": [
    {
     "name": "stdout",
     "output_type": "stream",
     "text": [
      "<class 'dict'>\n",
      "{'nama': 'hendra', 'nim': '2019610004', 'jurusan': 'informatika'}\n",
      "{'nama': 'hendra', 'nim': '2019610004', 'jurusan': 'informatika', 'semester': '8', 'jabatan': 'asisten_dosen'}\n",
      "{'nama': 'hendra', 'nim': '2019610004', 'jurusan': 'informatika', 'semester': '8'}\n"
     ]
    }
   ],
   "source": [
    "d1 = {\"nama\":\"hendra\",\"nim\":\"2019610004\"}\n",
    "print(type(d1))\n",
    "d1[\"jurusan\"] = \"informatika\"\n",
    "print(d1)\n",
    "d2 = {\"semester\":\"8\",\"jabatan\":\"asisten_dosen\"} \n",
    "d1.update(d2)\n",
    "print(d1)\n",
    "d1.popitem()\n",
    "print(d1)\n"
   ]
  },
  {
   "cell_type": "code",
   "execution_count": 7,
   "metadata": {},
   "outputs": [
    {
     "name": "stdout",
     "output_type": "stream",
     "text": [
      "C\n"
     ]
    }
   ],
   "source": [
    "a =int(input(\"masukan bilangan : \"))\n",
    "print('A') if a > 9 else print('B') if a > 7 else print('C')"
   ]
  },
  {
   "cell_type": "code",
   "execution_count": 17,
   "metadata": {},
   "outputs": [
    {
     "name": "stdout",
     "output_type": "stream",
     "text": [
      "B\n"
     ]
    }
   ],
   "source": [
    "x = int(input(\"masukan nilai : \"))\n",
    "if x > 8 :\n",
    "    print('A')\n",
    "elif 6 < x <=8:\n",
    "    print('B')\n",
    "else:\n",
    "    print('C')        "
   ]
  },
  {
   "cell_type": "code",
   "execution_count": 18,
   "metadata": {},
   "outputs": [
    {
     "name": "stdout",
     "output_type": "stream",
     "text": [
      "0\n",
      "1\n",
      "2\n",
      "3\n",
      "4\n"
     ]
    }
   ],
   "source": [
    "x = int(input(\"masukan nilai : \"))\n",
    "for i in range(x+1):\n",
    "    print(i)"
   ]
  },
  {
   "cell_type": "code",
   "execution_count": 56,
   "metadata": {},
   "outputs": [
    {
     "name": "stdout",
     "output_type": "stream",
     "text": [
      "0\n",
      "1\n",
      "2\n",
      "3\n",
      "jumlah :  6\n"
     ]
    }
   ],
   "source": [
    "x = int(input(\"masukan nilai : \"))\n",
    "sum=0\n",
    "for i in range(x+1):\n",
    "    print(i)\n",
    "    sum = sum + i \n",
    "print(\"jumlah : \",sum)    \n",
    "   \n",
    "    "
   ]
  },
  {
   "cell_type": "code",
   "execution_count": 44,
   "metadata": {},
   "outputs": [
    {
     "name": "stdout",
     "output_type": "stream",
     "text": [
      "0\n",
      "2\n",
      "4\n"
     ]
    }
   ],
   "source": [
    "x = int(input(\"masukan nilai : \"))\n",
    "for i in range(0, x+1, 2):\n",
    "    print(i)\n"
   ]
  },
  {
   "cell_type": "code",
   "execution_count": 57,
   "metadata": {},
   "outputs": [
    {
     "name": "stdout",
     "output_type": "stream",
     "text": [
      "20\n",
      "19\n",
      "18\n",
      "17\n",
      "16\n",
      "15\n",
      "14\n",
      "13\n",
      "12\n",
      "11\n",
      "10\n",
      "9\n",
      "8\n",
      "7\n",
      "6\n",
      "5\n",
      "4\n",
      "3\n",
      "2\n",
      "1\n"
     ]
    }
   ],
   "source": [
    "for i in range(20,0,-1):\n",
    "   print(i)\n",
    "    "
   ]
  },
  {
   "cell_type": "code",
   "execution_count": 61,
   "metadata": {},
   "outputs": [
    {
     "name": "stdout",
     "output_type": "stream",
     "text": [
      "15\n",
      "14\n",
      "13\n",
      "12\n",
      "11\n",
      "10\n",
      "9\n",
      "8\n",
      "7\n",
      "6\n",
      "5\n",
      "4\n",
      "3\n",
      "2\n",
      "1\n",
      "0\n",
      "-1\n",
      "-2\n",
      "-3\n",
      "-4\n"
     ]
    }
   ],
   "source": [
    "for i in range(20, 0, -1):\n",
    "   i = i - 3\n",
    "   print(i-2)\n"
   ]
  },
  {
   "cell_type": "code",
   "execution_count": 42,
   "metadata": {},
   "outputs": [
    {
     "name": "stdout",
     "output_type": "stream",
     "text": [
      "0\n",
      "1\n",
      "0\n",
      "1\n",
      "0\n",
      "1\n",
      "0\n",
      "1\n",
      "0\n",
      "1\n",
      "0\n",
      "1\n",
      "0\n",
      "1\n",
      "0\n",
      "1\n",
      "0\n",
      "1\n",
      "0\n"
     ]
    }
   ],
   "source": [
    "\n",
    "x =20\n",
    "for i in range(20,1,-1):\n",
    "    print(i%2)\n"
   ]
  },
  {
   "cell_type": "code",
   "execution_count": 10,
   "metadata": {},
   "outputs": [
    {
     "name": "stdout",
     "output_type": "stream",
     "text": [
      "hehehehehh\n",
      "oalahh hehehehehh\n"
     ]
    }
   ],
   "source": [
    "x = input(\"Masukan Minuman : \")\n",
    "x1=x.strip().replace(\" \", \"\")\n",
    "print(x1)\n",
    "if x1 == 'kopi':\n",
    "    print(\"minuman kita same :{}\".format(x1))\n",
    "elif x1 == \"susu\" :\n",
    "    print(\"minum : {} sehat\".format(x1))    \n",
    "else :\n",
    "    print(\"oalahh {}\".format(x1))"
   ]
  },
  {
   "cell_type": "code",
   "execution_count": 33,
   "metadata": {},
   "outputs": [
    {
     "name": "stdout",
     "output_type": "stream",
     "text": [
      "mangga\n",
      "rambutan\n",
      "durian\n",
      "nanas\n",
      "stop\n",
      "['mangga', 'rambutan', 'durian', 'nanas', 'kuldi', 'pisang']\n"
     ]
    }
   ],
   "source": [
    "buah = ['mangga','rambutan','durian','nanas','manggis','pisang']\n",
    "for i in (buah):\n",
    "    if  i == 'rambutan':\n",
    "        print(i)\n",
    "        continue\n",
    "    elif i == 'manggis':\n",
    "        index = buah.index('manggis')\n",
    "        buah[index]='kuldi'\n",
    "        print(\"stop\")\n",
    "        break\n",
    "    print(i)\n",
    "else :\n",
    "    print('sudah dicetak')\n",
    "    \n",
    "print(buah)       \n",
    "    \n",
    "    \n",
    "\n",
    "        "
   ]
  },
  {
   "cell_type": "code",
   "execution_count": 64,
   "metadata": {},
   "outputs": [
    {
     "name": "stdout",
     "output_type": "stream",
     "text": [
      "status : biasa\n",
      "total jam 8\n",
      "total bayar :  17000\n"
     ]
    }
   ],
   "source": [
    "x = input(\"golongan parkir?[langganan/biasa] tekan Y/y jika iya : \")\n",
    "y = int(input(\"lama parkir ? (jam) : \"))\n",
    "s = 50000\n",
    "if x == 'y' or x =='Y':\n",
    "    y1=s-5000\n",
    "    print('status : langganan')\n",
    "    print(\"total jam {}\".format(y))\n",
    "    print('sisa saldo anda ',y1)\n",
    "else :\n",
    "    y2 = 3000\n",
    "    y3 = (y - 1)*2000\n",
    "    z = y2 + y3\n",
    "    print('status : biasa')\n",
    "    print(\"total jam {}\".format(y))\n",
    "    print(\"total bayar : \",z)   \n"
   ]
  },
  {
   "cell_type": "code",
   "execution_count": 19,
   "metadata": {},
   "outputs": [
    {
     "name": "stdout",
     "output_type": "stream",
     "text": [
      "=======\n",
      "status biasa\n",
      "lama = 5\n",
      "total bayar : 3000\n"
     ]
    }
   ],
   "source": [
    "x = input(\"golongan parkir?[langganan/biasa] : \")\n",
    "x1 = x.strip().replace(\" \", \"\").lower()\n",
    "s = 50000\n",
    "mahal = 20000\n",
    "#bawal = 3000\n",
    "if x1 == 'biasa':\n",
    "    y = int(input(\"lama parkir ? (jam) : \"))\n",
    "    print(\"=======\")\n",
    "    if y >= 1:\n",
    "        print(\"status {}\".format(x1))\n",
    "        print('lama = {}'.format(y))\n",
    "        print(\"total bayar : {}\".format(bawal) )\n",
    "    elif y > 1 and y <= 8:\n",
    "        print(\"status {}\".format(x1))\n",
    "        print('lama = {}'.format(y))\n",
    "        total = bawal + (y - 1) * 2000\n",
    "        print(\"total bayar : {}\".format(total))\n",
    "    else:\n",
    "        print(\"anda parkir terlalu lama !!!\")\n",
    "        print(\"anda diberikan keringanan membayar {}\".format(mahal))\n",
    "\n",
    "elif x1 == 'langganan':\n",
    "   y1 = s-5000\n",
    "   print('status : langganan')\n",
    "   print('sisa saldo anda ', y1)\n",
    "\n",
    "else:\n",
    "    print(\"pilihan anda salah !!!\")\n"
   ]
  },
  {
   "cell_type": "code",
   "execution_count": 20,
   "metadata": {},
   "outputs": [
    {
     "name": "stdout",
     "output_type": "stream",
     "text": [
      "=======\n",
      "status biasa\n",
      "lama = 5\n",
      "total bayar : 3000\n"
     ]
    }
   ],
   "source": [
    "x = input(\"golongan parkir?[langganan/biasa] : \")\n",
    "x1 = x.strip().replace(\" \", \"\").lower()\n",
    "s = 50000\n",
    "mahal = 20000\n",
    "bawal = 3000\n",
    "if x1 == 'biasa':\n",
    "    y = int(input(\"lama parkir ? (jam) : \"))\n",
    "    print(\"=======\")\n",
    "    if y >= 1:\n",
    "        print(\"status {}\".format(x1))\n",
    "        print('lama = {}'.format(y))\n",
    "        print(\"total bayar : {}\".format(bawal))\n",
    "    elif y > 1 and y <= 8:\n",
    "        print(\"status {}\".format(x1))\n",
    "        print('lama = {}'.format(y))\n",
    "        total = bawal + (y - 1) * 2000\n",
    "        print(\"total bayar : {}\".format(total))\n",
    "    else:\n",
    "        print(\"anda parkir terlalu lama !!!\")\n",
    "        print(\"anda diberikan keringanan membayar {}\".format(mahal))\n",
    "\n",
    "elif x1 == 'langganan':\n",
    "   y1 = s-5000\n",
    "   print('status : langganan')\n",
    "   print('sisa saldo anda ', y1)\n",
    "\n",
    "else:\n",
    "    print(\"pilihan anda salah !!!\")\n"
   ]
  },
  {
   "cell_type": "code",
   "execution_count": 67,
   "metadata": {},
   "outputs": [
    {
     "name": "stdout",
     "output_type": "stream",
     "text": [
      "status : langganan\n",
      "total jam 5\n",
      "sisa saldo anda  45000\n"
     ]
    }
   ],
   "source": [
    "x = input(\"golongan parkir?[langganan/biasa] tekan Y/y jika iya : \")\n",
    "\n",
    "y = int(input(\"lama parkir ? (jam) : \"))\n",
    "s = 50000\n",
    "\n",
    "if x == 'langganan':\n",
    "    y1 = s-5000\n",
    "    print('status : langganan')\n",
    "    print(\"total jam {}\".format(y))\n",
    "    print('sisa saldo anda ', y1)\n",
    "elif x == 'biasa':\n",
    "    y2 = 3000\n",
    "    y3 = (y - 1)*2000\n",
    "    z = y2 + y3\n",
    "    z1 \n",
    "    print('status : biasa')\n",
    "    print(\"total jam {}\".format(y))\n",
    "    print(\"total bayar : \", z)\n",
    "    \n",
    "else:\n",
    "    print(\"eroor\")   \n"
   ]
  },
  {
   "cell_type": "code",
   "execution_count": 70,
   "metadata": {},
   "outputs": [
    {
     "name": "stdout",
     "output_type": "stream",
     "text": [
      "status : biasa\n",
      "total jam 77\n"
     ]
    }
   ],
   "source": [
    "x = input(\"golongan parkir?[langganan/biasa] tekan Y/y jika iya : \")\n",
    "y = int(input(\"lama parkir ? (jam) : \"))\n",
    "s = 50000\n",
    "z2=20000\n",
    "if x == 'y' or x == 'Y':\n",
    "    y1 = s-5000\n",
    "    print('status : langganan')\n",
    "    print(\"total jam {}\".format(y))\n",
    "    print('sisa saldo anda ', y1)\n",
    "else :\n",
    "    \n",
    "    y2 = 3000\n",
    "    y3 = (y - 1)*2000\n",
    "    z = y2 + y3\n",
    "   # z3= z >= z2\n",
    "    if z >= 20000 :\n",
    "        print('status : biasa')\n",
    "        print(\"total jam {}\".format(y))\n",
    "        (\"total bayar : \", z2)\n",
    "    else :    \n",
    "        print('status : biasa')\n",
    "        print(\"total jam {}\".format(y))\n",
    "        print(\"total bayar : \", z)\n"
   ]
  }
 ],
 "metadata": {
  "kernelspec": {
   "display_name": "Python 3.9.5 64-bit",
   "language": "python",
   "name": "python3"
  },
  "language_info": {
   "codemirror_mode": {
    "name": "ipython",
    "version": 3
   },
   "file_extension": ".py",
   "mimetype": "text/x-python",
   "name": "python",
   "nbconvert_exporter": "python",
   "pygments_lexer": "ipython3",
   "version": "3.9.5"
  },
  "orig_nbformat": 4,
  "vscode": {
   "interpreter": {
    "hash": "82ed002fa2d4956f5c6aec99bcefe0f73a9f79882f3c9e2319b14958a5896ac5"
   }
  }
 },
 "nbformat": 4,
 "nbformat_minor": 2
}
