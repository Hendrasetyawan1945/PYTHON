{
 "cells": [
  {
   "cell_type": "code",
   "execution_count": 13,
   "metadata": {},
   "outputs": [
    {
     "name": "stdout",
     "output_type": "stream",
     "text": [
      "busran padang jarkom S2\n",
      "hendra suwaru teknik informatika 19 201961004 bayar rp 4jt\n"
     ]
    }
   ],
   "source": [
    "class Mahasiswa:\n",
    "    \n",
    "    def __init__(self, nama,alamat,jurusan,angkatan,nim):\n",
    "        self.nama = nama \n",
    "        self.alamat = alamat\n",
    "        self.jurusan = jurusan\n",
    "        self.angkatan = angkatan\n",
    "        self.nim = nim\n",
    "       \n",
    "    def __str__(self): \n",
    "        return '{} {} {} {} {}'.format(self.nama, self.alamat, self.jurusan, self.angkatan,self.nim)\n",
    "    \n",
    "    \n",
    "class Beban(Mahasiswa):\n",
    "    def __init__(self, nama, alamat, jurusan, angkatan, nim):\n",
    "        self.bayar = \"rp 4jt\"\n",
    "        super().__init__(nama, alamat, jurusan, angkatan, nim)\n",
    "        \n",
    "    def __str__(self): \n",
    "        return '{} {} {} {} {} bayar {}'.format(self.nama, self.alamat, self.jurusan, self.angkatan,self.nim,self.bayar)\n",
    "     \n",
    "class Dosen:\n",
    "    \n",
    "    def __init__(self,nama,alamat,mk,pendidikan):\n",
    "        self.nama = nama\n",
    "        self.alamat = alamat\n",
    "        self.mk = mk\n",
    "        self.pendidikan = pendidikan\n",
    "        \n",
    "    def __str__(self):\n",
    "        return '{} {} {} {}'.format(self.nama, self.alamat, self.mk, self.pendidikan)   \n",
    "\n",
    "\n",
    "bus = Dosen(\"busran\", \"padang\", \"jarkom\", \"S2\")\n",
    "print(bus)\n",
    "hendra = Beban(\"hendra\",\"suwaru\",\"teknik informatika\",\"19\",\"201961004\")   \n",
    "print(hendra)\n",
    "\n"
   ]
  }
 ],
 "metadata": {
  "kernelspec": {
   "display_name": "Python 3.9.5 64-bit",
   "language": "python",
   "name": "python3"
  },
  "language_info": {
   "codemirror_mode": {
    "name": "ipython",
    "version": 3
   },
   "file_extension": ".py",
   "mimetype": "text/x-python",
   "name": "python",
   "nbconvert_exporter": "python",
   "pygments_lexer": "ipython3",
   "version": "3.9.5"
  },
  "orig_nbformat": 4,
  "vscode": {
   "interpreter": {
    "hash": "82ed002fa2d4956f5c6aec99bcefe0f73a9f79882f3c9e2319b14958a5896ac5"
   }
  }
 },
 "nbformat": 4,
 "nbformat_minor": 2
}
