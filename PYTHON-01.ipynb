{
 "cells": [
  {
   "cell_type": "markdown",
   "metadata": {},
   "source": [
    "#Belajar PYTHON-01"
   ]
  },
  {
   "cell_type": "code",
   "execution_count": 3,
   "metadata": {},
   "outputs": [
    {
     "name": "stdout",
     "output_type": "stream",
     "text": [
      "yakkk\n"
     ]
    }
   ],
   "source": [
    "#Mencoba if\n",
    "x = 10\n",
    "if x > 20 :\n",
    "    print(\"Benar\")\n",
    "    print(\"Yupp\")\n",
    "elif 20 <= x >= 35 :    \n",
    "    print('yakkk')    "
   ]
  },
  {
   "cell_type": "code",
   "execution_count": 11,
   "metadata": {},
   "outputs": [
    {
     "name": "stdout",
     "output_type": "stream",
     "text": [
      "0\n",
      "-1\n",
      "1\n",
      "0\n",
      "2\n",
      "1\n",
      "3\n",
      "2\n",
      "4\n",
      "3\n",
      "5\n",
      "4\n",
      "6\n",
      "5\n",
      "7\n",
      "6\n"
     ]
    }
   ],
   "source": [
    "#for // Range\n",
    "for a in range (8) :\n",
    "    print(a)\n",
    "    print(a-1)"
   ]
  },
  {
   "cell_type": "code",
   "execution_count": null,
   "metadata": {},
   "outputs": [],
   "source": [
    "#Casting\n",
    "a = str(666)\n",
    "b = \"keramat\"\n",
    "c = a + \" \" +b\n",
    "print(c)\n",
    "###############################\n",
    "kata = \"\"\"\"ArithmeticErrorArithmeticErrorArithmeticError\n",
    "ArithmeticErrorArithmeticError\n",
    "ArithmeticErrorArithmeticError\n",
    "\"\"\"\n",
    "print(kata)\n"
   ]
  },
  {
   "cell_type": "code",
   "execution_count": 27,
   "metadata": {},
   "outputs": [
    {
     "name": "stdout",
     "output_type": "stream",
     "text": [
      "4\n",
      "<class 'str'>\n",
      "Tidak ada\n"
     ]
    }
   ],
   "source": [
    "#CATATAN TERKAIT STRING PENTING\n",
    "\n",
    "# Mencarai atau menghitung karakter = len()\n",
    "nama = \"Biru\"\n",
    "print(len(nama))\n",
    "\n",
    "#Mengetaui Type = type\n",
    "print(type(nama))\n",
    "\n",
    "#Membership\n",
    "x =[1,2,3,4,5,6]\n",
    "if 11 in x :\n",
    "    print(\"ada\")\n",
    "else :\n",
    "    print(\"Tidak ada\")    "
   ]
  },
  {
   "cell_type": "code",
   "execution_count": 9,
   "metadata": {},
   "outputs": [
    {
     "name": "stdout",
     "output_type": "stream",
     "text": [
      "Hallo Mochi\n"
     ]
    }
   ],
   "source": [
    "print('Hallo Mochi')"
   ]
  },
  {
   "cell_type": "code",
   "execution_count": 5,
   "metadata": {},
   "outputs": [
    {
     "name": "stdout",
     "output_type": "stream",
     "text": [
      "Membuat Hitungan Dasar \n",
      "Hasil  2  +  5 =  7\n"
     ]
    }
   ],
   "source": [
    "print (\"Membuat Hitungan Dasar \")\n",
    "a=int(input(\"Masukan Bilangan A : \"))\n",
    "b = int(input(\"Masukan Bilangan b : \"))\n",
    "h = a + b \n",
    "print(\"Hasil \",a,\" + \",b ,\"= \", h)"
   ]
  },
  {
   "cell_type": "code",
   "execution_count": 25,
   "metadata": {},
   "outputs": [
    {
     "name": "stdout",
     "output_type": "stream",
     "text": [
      "['Bambang']\n",
      "Hendra Lutfi\n"
     ]
    }
   ],
   "source": [
    "list = [1, 2, 3, 4,\"Bambang\"]\n",
    "print(list[4:5] )\n",
    "\n",
    "#trial 2\n",
    "list = \"Hendra Setyawan\"\n",
    "print(list[0:6] + \" Lutfi\")\n"
   ]
  },
  {
   "cell_type": "code",
   "execution_count": 7,
   "metadata": {},
   "outputs": [
    {
     "name": "stdout",
     "output_type": "stream",
     "text": [
      "10\n"
     ]
    }
   ],
   "source": [
    "a = 3\n",
    "b = 7\n",
    "c = a + b\n",
    "print(c)\n"
   ]
  },
  {
   "cell_type": "code",
   "execution_count": 8,
   "metadata": {},
   "outputs": [
    {
     "name": "stdout",
     "output_type": "stream",
     "text": [
      "False\n",
      "True\n"
     ]
    }
   ],
   "source": [
    "a = False\n",
    "b = True\n",
    "print (a and b)\n",
    "print(a or b)\n"
   ]
  }
 ],
 "metadata": {
  "kernelspec": {
   "display_name": "Python 3.9.5 64-bit",
   "language": "python",
   "name": "python3"
  },
  "language_info": {
   "codemirror_mode": {
    "name": "ipython",
    "version": 3
   },
   "file_extension": ".py",
   "mimetype": "text/x-python",
   "name": "python",
   "nbconvert_exporter": "python",
   "pygments_lexer": "ipython3",
   "version": "3.9.5"
  },
  "orig_nbformat": 4,
  "vscode": {
   "interpreter": {
    "hash": "82ed002fa2d4956f5c6aec99bcefe0f73a9f79882f3c9e2319b14958a5896ac5"
   }
  }
 },
 "nbformat": 4,
 "nbformat_minor": 2
}
