{
 "cells": [
  {
   "cell_type": "code",
   "execution_count": null,
   "metadata": {},
   "outputs": [],
   "source": [
    "#Belajar PYTHON 02\n",
    "#LIST DKK"
   ]
  },
  {
   "cell_type": "code",
   "execution_count": 16,
   "metadata": {},
   "outputs": [
    {
     "name": "stdout",
     "output_type": "stream",
     "text": [
      "8\n",
      "jumlah karakter :  5\n",
      "jumlah karakter :  22\n",
      "Angka minimum dari A :  1\n",
      "Angka maxsimum dari A :  77\n"
     ]
    }
   ],
   "source": [
    "# len() yang akan menghitung panjang atau banyaknya elemen dari List\n",
    "# (untuk String menjadi menghitung jumlah karakternya)\n",
    "a = [1,2,3,3,1,4,5,77]\n",
    "print(\"jumlah karakter : \", len(a))\n",
    "b =([0,1,2,3,4])\n",
    "print(\"jumlah karakter : \", len(b))\n",
    "c=\"Raden Hendra Kertapati\"\n",
    "print(\"jumlah karakter : \", len(c))\n",
    "\n",
    "# min() dan max()\n",
    "# mengetahui berapa nilai minimum dan maksimum dari suatu list menggunakan fungsi min() dan max().\n",
    "print(\"Angka minimum dari A : \",min(a))\n",
    "print(\"Angka maxsimum dari A : \",max(a))\n"
   ]
  },
  {
   "cell_type": "code",
   "execution_count": 20,
   "metadata": {},
   "outputs": [
    {
     "name": "stdout",
     "output_type": "stream",
     "text": [
      "[1, 2, 3, 4, 'H', 'E', 'N', 'D', 'R', 'A']\n",
      "['H', 'E', 'N', 'D', 'R', 'A', 'H', 'E', 'N', 'D', 'R', 'A', 'H', 'E', 'N', 'D', 'R', 'A']\n",
      "0\n",
      "1\n",
      "2\n",
      "3\n"
     ]
    }
   ],
   "source": [
    "#Penggabungan Angka dan Karakter\n",
    "x=[1,2,3,4]\n",
    "y=['H','E','N','D','R','A']\n",
    "z= x + y\n",
    "print(z)\n",
    "\n",
    "#Replikasi \n",
    "print(y*3)\n",
    "\n",
    "#Range\n",
    "#Fungsi range() memberikan deret bilangan dengan pola tertentu. \n",
    "# Untuk melakukan perulangan(misalnya for) dalam mengakses elemen list,\n",
    "# Anda dapat menggunakan fungsi range() pada Python. Lebih detail\n",
    "# mengenai operasi perulangan akan dibahas pada modul Perulangan dan Kontrol Perulangan.\n",
    "for a in range(0,4) :\n",
    "    print(a)\n"
   ]
  },
  {
   "cell_type": "code",
   "execution_count": null,
   "metadata": {},
   "outputs": [],
   "source": []
  }
 ],
 "metadata": {
  "kernelspec": {
   "display_name": "Python 3.9.12 ('base')",
   "language": "python",
   "name": "python3"
  },
  "language_info": {
   "codemirror_mode": {
    "name": "ipython",
    "version": 3
   },
   "file_extension": ".py",
   "mimetype": "text/x-python",
   "name": "python",
   "nbconvert_exporter": "python",
   "pygments_lexer": "ipython3",
   "version": "3.9.12"
  },
  "orig_nbformat": 4,
  "vscode": {
   "interpreter": {
    "hash": "a077222d77dfe082b8f1dd562ad70e458ac2ab76993a0b248ab0476e32e9e8dd"
   }
  }
 },
 "nbformat": 4,
 "nbformat_minor": 2
}
