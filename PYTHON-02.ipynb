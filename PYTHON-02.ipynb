{
 "cells": [
  {
   "cell_type": "code",
   "execution_count": 1,
   "metadata": {},
   "outputs": [],
   "source": [
    "#Belajar PYTHON 02\n",
    "#LIST DKK"
   ]
  },
  {
   "cell_type": "code",
   "execution_count": 2,
   "metadata": {},
   "outputs": [
    {
     "name": "stdout",
     "output_type": "stream",
     "text": [
      "jumlah karakter :  8\n",
      "jumlah karakter :  5\n",
      "jumlah karakter :  22\n",
      "Angka minimum dari A :  1\n",
      "Angka maxsimum dari A :  77\n"
     ]
    }
   ],
   "source": [
    "# len() yang akan menghitung panjang atau banyaknya elemen dari List\n",
    "# (untuk String menjadi menghitung jumlah karakternya)\n",
    "a = [1,2,3,3,1,4,5,77]\n",
    "print(\"jumlah karakter : \",len(a))\n",
    "b =([0,1,2,3,4])\n",
    "print(\"jumlah karakter : \", len(b))\n",
    "c=\"Raden Hendra Kertapati\"\n",
    "print(\"jumlah karakter : \", len(c))\n",
    "\n",
    "# min() dan max()\n",
    "# mengetahui berapa nilai minimum dan maksimum dari suatu list menggunakan fungsi min() dan max().\n",
    "print(\"Angka minimum dari A : \",min(a))\n",
    "print(\"Angka maxsimum dari A : \",max(a))\n"
   ]
  },
  {
   "cell_type": "code",
   "execution_count": 3,
   "metadata": {},
   "outputs": [
    {
     "name": "stdout",
     "output_type": "stream",
     "text": [
      "[1, 2, 3, 4, 'H', 'E', 'N', 'D', 'R', 'A']\n",
      "['H', 'E', 'N', 'D', 'R', 'A', 'H', 'E', 'N', 'D', 'R', 'A', 'H', 'E', 'N', 'D', 'R', 'A']\n",
      "0\n",
      "1\n",
      "2\n",
      "3\n"
     ]
    }
   ],
   "source": [
    "#Penggabungan Angka dan Karakter\n",
    "x=[1,2,3,4]\n",
    "y=['H','E','N','D','R','A']\n",
    "z= x + y\n",
    "print(z)\n",
    "\n",
    "#Replikasi \n",
    "print(y*3)\n",
    "\n",
    "#Range\n",
    "#Fungsi range() memberikan deret bilangan dengan pola tertentu. \n",
    "# Untuk melakukan perulangan(misalnya for) dalam mengakses elemen list,\n",
    "# Anda dapat menggunakan fungsi range() pada Python. Lebih detail\n",
    "# mengenai operasi perulangan akan dibahas pada modul Perulangan dan Kontrol Perulangan.\n",
    "for a in range(0,4) :\n",
    "    print(a)\n"
   ]
  },
  {
   "cell_type": "code",
   "execution_count": 4,
   "metadata": {},
   "outputs": [
    {
     "name": "stdout",
     "output_type": "stream",
     "text": [
      "True\n",
      "False\n",
      "False\n"
     ]
    }
   ],
   "source": [
    "#in dan not in\n",
    "#Untuk mengetahui sebuah nilai atau objek ada dalam list, Anda dapat menggunakan operator in dan not in. \n",
    "#Fungsi ini akan mengembalikan nilai boolean True atau False.\n",
    "x=\"Raden Hendra Kertapati\"\n",
    "print(\"Hendra\" in x)\n",
    "print(\"Lutfi\" in x)\n",
    "print(\"Hendra\" not in x)\n"
   ]
  },
  {
   "cell_type": "code",
   "execution_count": 5,
   "metadata": {},
   "outputs": [
    {
     "name": "stdout",
     "output_type": "stream",
     "text": [
      "Hendra\n",
      "Mahasiswa\n",
      "ITP\n",
      "[1, 4, 6, 7, 7, 22, 123, 233]\n",
      "['cahyo', 'hendra', 'setiawan']\n"
     ]
    }
   ],
   "source": [
    "#multiple variable\n",
    "data=['Hendra','Mahasiswa','ITP']\n",
    "x = data[0]\n",
    "y = data[1]\n",
    "z = data[2]\n",
    "#Dapat dengan cara sebagai berikut x,y,z=data\n",
    "print(x)\n",
    "print(y)\n",
    "print(z)\n",
    "\n",
    "#fungsi sort()\n",
    "a=[123,233,4,6,7,1,22,7]\n",
    "a.sort()\n",
    "print(a)\n",
    "\n",
    "nama=['hendra','cahyo','setiawan']\n",
    "nama.sort()\n",
    "print(nama)\n",
    "\n",
    "\n",
    "\n",
    "\n"
   ]
  },
  {
   "cell_type": "code",
   "execution_count": 6,
   "metadata": {},
   "outputs": [
    {
     "name": "stdout",
     "output_type": "stream",
     "text": [
      "Sayalaparsekalipengenmakanbanyak\n",
      "['Saya', 'lapar', 'sekali', 'pengen', 'makan', 'banyak']\n",
      "Sayalaparsekalipengenmakanbanyak\n",
      "['lapar', 'sekali', 'pengen', 'makan', 'indomi', 'banyak']\n"
     ]
    }
   ],
   "source": [
    "#mencoba tugas\n",
    "x = \"Saya lapar sekali pengen makan banyak\"\n",
    "print(x.replace(\" \",\"\"))\n",
    "x1 = x.split()\n",
    "print(x1)\n",
    "x1.insert(5, \"indomi\")\n",
    "\n",
    "y = x.split()\n",
    "print(''.join(y))\n",
    "\n",
    "\n",
    "\n",
    "#Melakukan penghapusan Karakter\n",
    "del x1 [0]\n",
    "print(x1)\n"
   ]
  },
  {
   "cell_type": "code",
   "execution_count": 32,
   "metadata": {},
   "outputs": [
    {
     "name": "stdout",
     "output_type": "stream",
     "text": [
      "[1, 2, 99, 3, 5, 7, 1, 3, 3]\n",
      "[1, 1, 2, 3, 3, 3, 5, 7, 99]\n",
      "[99, 7, 5, 3, 3, 3, 2, 1, 1]\n",
      "['saya', 'ingin', 'makan', 'indomi', 'banyak']\n",
      "['saya', 'ingin', 'makan', 'indomi', 'banyak', 200]\n",
      "['saya', 'ingin', 'makan', 'indomi', 200]\n"
     ]
    },
    {
     "data": {
      "text/plain": [
       "1"
      ]
     },
     "execution_count": 32,
     "metadata": {},
     "output_type": "execute_result"
    }
   ],
   "source": [
    "#Mencoba mensisipkan karakter\n",
    "x=[1,2,3,5,7,1,3,3]\n",
    "x.insert(2,99)\n",
    "print(x)\n",
    "\n",
    "#melakukan sort\n",
    "x.sort()\n",
    "print(x)\n",
    "\n",
    "#membalik deret index\n",
    "x.reverse()\n",
    "print(x)\n",
    "\n",
    "y = [\"saya\",\"ingin\",\"makan\",\"banyak\"]\n",
    "y.insert(3,\"indomi\") # 3 adalah repesentasi index\n",
    "print(y)\n",
    "\n",
    "#menambah index pada urutan paling belakang\n",
    "y.append(200)\n",
    "print(y)\n",
    "\n",
    "#Menghapus index\n",
    "y.remove('banyak')\n",
    "print(y)\n",
    "\n",
    "#melakukan letak index\n",
    "y.index('ingin')\n"
   ]
  },
  {
   "cell_type": "code",
   "execution_count": 53,
   "metadata": {},
   "outputs": [
    {
     "name": "stdout",
     "output_type": "stream",
     "text": [
      "Sayalaparsekalipengenmakanindomibanyak\n",
      "Sayalaparsekalipengenmakanindomibanyak\n",
      "[1, 2, 3, 4, 5, 1, 2, 3]\n",
      "[1, 2, 3, 4, 5]\n"
     ]
    }
   ],
   "source": [
    "x = \"Saya lapar sekali pengen makan indomi banyak\"\n",
    "for a in range(1,3) :\n",
    "    a = x.split()\n",
    "    print(''.join(a))\n",
    "    \n",
    "a=[1,2,3,4,5]    \n",
    "b=[1,2,3]\n",
    "c= a+b\n",
    "d =[]\n",
    "print(c)\n",
    "for i in c :\n",
    "    if i not in d:\n",
    "        d.append(i)\n",
    "c = d\n",
    "print(c) \n",
    "\n",
    "       \n",
    "\n"
   ]
  },
  {
   "cell_type": "code",
   "execution_count": 55,
   "metadata": {},
   "outputs": [
    {
     "name": "stdout",
     "output_type": "stream",
     "text": [
      "[1, 4]\n"
     ]
    }
   ],
   "source": [
    "\n",
    "a = [1, 2, 3, 4, 5]\n",
    "b = [2, 3 ,5]\n",
    "for i in b:\n",
    "    a.remove(i)    \n",
    "print(a)      "
   ]
  },
  {
   "cell_type": "code",
   "execution_count": 7,
   "metadata": {},
   "outputs": [
    {
     "name": "stdout",
     "output_type": "stream",
     "text": [
      "99 Tidak ada masukan dalam list :  [1, 2, 3, 4, 5, 4, 6, 44, 2, 1]\n",
      "[1, 1, 2, 2, 3, 4, 4, 5, 6, 44, 99]\n"
     ]
    }
   ],
   "source": [
    "a = [1, 2, 3, 4, 5,4,6,44,2,1,]\n",
    "b = int(input(\"masukan angka : \"))\n",
    "if b in a :\n",
    "    print(\"angka sudah ada : \",b)\n",
    "    \n",
    "else :\n",
    "    print(b,\"Tidak ada masukan dalam list : \",a)   \n",
    "a.append(b)     \n",
    "a.sort()\n",
    "print(a)  "
   ]
  },
  {
   "cell_type": "code",
   "execution_count": 6,
   "metadata": {},
   "outputs": [
    {
     "name": "stdout",
     "output_type": "stream",
     "text": [
      "Saya lapar sekali pengen maka\n"
     ]
    }
   ],
   "source": [
    "x =\"Saya lapar sekali pengen maka\"\n",
    "x1=x.split()\n",
    "for i in x1:\n",
    "    x2=\"\"\n",
    "    x2 += x\n",
    "print(x2)    \n",
    "    \n"
   ]
  },
  {
   "cell_type": "code",
   "execution_count": 26,
   "metadata": {},
   "outputs": [
    {
     "name": "stdout",
     "output_type": "stream",
     "text": [
      "['S-a-y-a-', '-l-a-p-a-r-', '-s-e-k-a-l-i-', '-p-e-n-g-e-n-', '-m-a-k-a-n-', '-b-a-n-y-a-k']\n",
      "Sayalaparsekalipengenmakanbanyak\n"
     ]
    }
   ],
   "source": [
    "x = \"Saya lapar sekali pengen makan banyak\"\n",
    "x1='-'.join(x).split()\n",
    "print(x1)\n",
    "\n",
    "y = \"Saya lapar sekali pengen makan banyak\"\n",
    "kondisi = input(\"Apakah anda ingin menggabungkan y/n?\")\n",
    "if kondisi == 'y' or kondisi == 'Y':\n",
    "    y = y.split()\n",
    "    print(''.join(y))\n",
    "else    :\n",
    "    y= y.split()\n",
    "    print(y)\n"
   ]
  },
  {
   "cell_type": "code",
   "execution_count": 7,
   "metadata": {},
   "outputs": [],
   "source": [
    "x=[1,2,3,4,5,7,8]\n",
    "y=int(input(\"Masukan angka : \"))\n",
    "for i in x :\n",
    "    if y == x :\n",
    "        print(\"Angka \",y,\" sudah berada dalam index\")\n",
    "        print(x)\n",
    "    else    :\n",
    "        x.append(y)\n",
    "        print(\"Masukan anggka \",y,\" dalam index\")\n",
    "        print(x)"
   ]
  },
  {
   "cell_type": "code",
   "execution_count": 37,
   "metadata": {},
   "outputs": [
    {
     "name": "stdout",
     "output_type": "stream",
     "text": [
      "['minggu', 'senin', 'rabu', 'kamis', 'jumat', 'sabtu']\n"
     ]
    }
   ],
   "source": [
    "##menghapus dengan pop\n",
    "hari=['minggu','senin','selasa','rabu','kamis','jumat','sabtu']\n",
    "kondisi =input(\"maskan urutan hari yang dihapus dari index : \")\n",
    "harix = kondisi.lower()\n",
    "if harix in hari :\n",
    "    hari.remove(harix)\n",
    "    print(hari)\n",
    "else:\n",
    "    print(hari)\n"
   ]
  }
 ],
 "metadata": {
  "kernelspec": {
   "display_name": "Python 3.9.12 ('base')",
   "language": "python",
   "name": "python3"
  },
  "language_info": {
   "codemirror_mode": {
    "name": "ipython",
    "version": 3
   },
   "file_extension": ".py",
   "mimetype": "text/x-python",
   "name": "python",
   "nbconvert_exporter": "python",
   "pygments_lexer": "ipython3",
   "version": "3.9.12"
  },
  "orig_nbformat": 4,
  "vscode": {
   "interpreter": {
    "hash": "a077222d77dfe082b8f1dd562ad70e458ac2ab76993a0b248ab0476e32e9e8dd"
   }
  }
 },
 "nbformat": 4,
 "nbformat_minor": 2
}
