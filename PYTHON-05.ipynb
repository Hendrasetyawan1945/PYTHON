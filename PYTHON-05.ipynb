{
 "cells": [
  {
   "cell_type": "code",
   "execution_count": 2,
   "metadata": {},
   "outputs": [
    {
     "name": "stdout",
     "output_type": "stream",
     "text": [
      "===================\n",
      "anda parkir terlalu lama !!!\n",
      "anda diberikan keringanan membayar 20000\n"
     ]
    }
   ],
   "source": [
    "x = input(\"golongan parkir?[langganan/biasa] : \")\n",
    "x1 = x.strip().replace(\" \", \"\").lower()\n",
    "s = 50000\n",
    "if x1 == 'biasa':\n",
    "    mahal = 20000\n",
    "    bawal = 3000\n",
    "    y = int(input(\"lama parkir ? (jam) : \"))\n",
    "    print(\"===================\")\n",
    "    if y <= 1:\n",
    "        print(\"status {}\".format(x1))\n",
    "        print('lama = {}'.format(y))\n",
    "        print(\"total bayar : {}\".format(bawal))\n",
    "    elif y > 1 and y <= 8:\n",
    "        print(\"status {}\".format(x1))\n",
    "        print('lama = {}'.format(y))\n",
    "        total = bawal + (y - 1) * 2000\n",
    "        print(\"total bayar : {}\".format(total))\n",
    "    else:\n",
    "        print(\"anda parkir terlalu lama !!!\")\n",
    "        print(\"anda diberikan keringanan membayar {}\".format(mahal))\n",
    "\n",
    "elif x1 == 'langganan':\n",
    "   y1 = s-5000\n",
    "   print('status : langganan')\n",
    "   print('sisa saldo anda ', y1)\n",
    "\n",
    "else:\n",
    "    print(\"pilihan anda salah !!!\")\n"
   ]
  },
  {
   "cell_type": "code",
   "execution_count": 3,
   "metadata": {},
   "outputs": [
    {
     "name": "stdout",
     "output_type": "stream",
     "text": [
      "===============================\n",
      "status biasa\n",
      "lama parkir jam 23\n",
      "total bayar anda : 20000\n"
     ]
    }
   ],
   "source": [
    "def biasa(jam):\n",
    "    if y <= 1 :\n",
    "        z = 3000\n",
    "    elif y > 1 and y <= 8:\n",
    "        z = (y-2)*2000 + 3000\n",
    "    else :\n",
    "        z = 20000\n",
    "    return z\n",
    "\n",
    "def langganan(saldo):\n",
    "    sisa = saldo -5000\n",
    "    return sisa\n",
    "\n",
    "\n",
    "x = input(\"golongan parkir?[langganan/biasa] : \")\n",
    "x1 = x.strip().replace(\" \", \"\").lower()\n",
    "\n",
    "\n",
    "if x1 == 'biasa':  \n",
    "    y = int(input(\"lama parkir ? (jam) : \"))\n",
    "    print(\"===============================\")\n",
    "    \n",
    "    print(\"status {}\".format(x1))\n",
    "    print('lama parkir jam {}'.format(y))\n",
    "    ongkos = biasa(y)\n",
    "    print(\"total bayar anda : {}\".format(ongkos))\n",
    "    \n",
    "\n",
    "elif x1 == 'langganan':\n",
    "   saldo = 50000\n",
    "   tinggal = langganan(saldo)\n",
    "   print(\"saldo anda {}\".format(tinggal))\n",
    "\n",
    "else:\n",
    "    print(\"pilihan anda salah !!!\")\n",
    "\n",
    "\n"
   ]
  },
  {
   "cell_type": "code",
   "execution_count": 22,
   "metadata": {},
   "outputs": [
    {
     "name": "stdout",
     "output_type": "stream",
     "text": [
      "total bayar anda : 3000\n"
     ]
    }
   ],
   "source": [
    "#latihan fungsi\n",
    "def biasa (jam):\n",
    "    if jamnya <= 1 :\n",
    "        c = 3000\n",
    "    elif jamnya >=1 and jamnya <=8 :\n",
    "        c = (jamnya - 1)* 2000 + 3000\n",
    "    else :\n",
    "        c = 20000        \n",
    "    return c\n",
    "\n",
    "def langganan (saldo):\n",
    "    sisa = saldo - 5000\n",
    "    return sisa\n",
    "\n",
    "gol = input(\"masukan gologan : \")\n",
    "gol1 = gol.strip().replace(\" \", \"\").lower()\n",
    "if gol1 == 'biasa':\n",
    "    jamnya = int(input(\"masukan jam : \"))\n",
    "    ongkos = biasa(jam)\n",
    "    print(\"total bayar anda : {}\".format(ongkos))\n",
    "    \n",
    "    \n",
    "    \n",
    "    \n",
    "elif gol1 == 'langganan' :\n",
    "    saldo = 50000\n",
    "    salahir = langganan(saldo)\n",
    "    print(\"saldo anda {}\".format(salahir))    \n"
   ]
  },
  {
   "cell_type": "code",
   "execution_count": 1,
   "metadata": {},
   "outputs": [],
   "source": [
    "#latihan fungsi\n",
    "def biasa(jam):\n",
    "    if jamnya <= 1:\n",
    "        c = 3000\n",
    "    elif jamnya >= 1 and jamnya <= 8:\n",
    "        c = (jamnya - 1) * 2000 + 3000\n",
    "    else:\n",
    "        c = 20000\n",
    "    return c\n",
    "\n",
    "\n",
    "def langganan(saldo):\n",
    "    sisa = saldo - 5000\n",
    "    return sisa\n",
    "\n",
    "\n",
    "\n",
    "gol = input(\"masukan gologan : \")\n",
    "gol1 = gol.strip().replace(\" \", \"\").lower\n",
    "\n",
    "\n",
    "\n",
    "if gol1 == 'biasa':\n",
    "    jamnya = int(input(\"masukan jam : \"))\n",
    "    ongkos = biasa(jam)\n",
    "    print(\"total bayar anda : {}\".format(ongkos))\n",
    "\n",
    "\n",
    "elif gol1 == 'langganan':\n",
    "    saldo = 50000\n",
    "    salahir = langganan(saldo)\n",
    "    print(\"saldo anda {}\".format(salahir))\n",
    "\n",
    "\n",
    "    "
   ]
  }
 ],
 "metadata": {
  "kernelspec": {
   "display_name": "Python 3.9.5 64-bit",
   "language": "python",
   "name": "python3"
  },
  "language_info": {
   "codemirror_mode": {
    "name": "ipython",
    "version": 3
   },
   "file_extension": ".py",
   "mimetype": "text/x-python",
   "name": "python",
   "nbconvert_exporter": "python",
   "pygments_lexer": "ipython3",
   "version": "3.9.5"
  },
  "orig_nbformat": 4,
  "vscode": {
   "interpreter": {
    "hash": "82ed002fa2d4956f5c6aec99bcefe0f73a9f79882f3c9e2319b14958a5896ac5"
   }
  }
 },
 "nbformat": 4,
 "nbformat_minor": 2
}
