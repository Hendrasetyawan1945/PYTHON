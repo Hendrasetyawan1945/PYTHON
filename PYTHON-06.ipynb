{
 "cells": [
  {
   "cell_type": "code",
   "execution_count": 3,
   "metadata": {},
   "outputs": [
    {
     "name": "stdout",
     "output_type": "stream",
     "text": [
      "13000\n"
     ]
    }
   ],
   "source": [
    "#sourcode program pytho parkir menggunakan loop\n",
    "x = input(\"golongan parkir?[langganan/biasa] : \")\n",
    "x1 = x.strip().replace(\" \", \"\").lower()\n",
    "langganan = 50000\n",
    "\n",
    "if x1 == \"biasa\":\n",
    "    ongkos = 3000\n",
    "    jam = int(input(\"Masukan berapa jam anda parkir : ? \"))\n",
    "    for i in range(1,jam):\n",
    "        ongkos += 2000 #looping menghitung seperti fibonaci\n",
    "        if ongkos > 22000 :\n",
    "            ongkos = 20000\n",
    "            break #perhitungan selesai\n",
    "        \n",
    "    print(ongkos) #mencentak ongkos\n",
    "        \n",
    "elif x1 == \"langganan\" :\n",
    "    saldo = langganan - 5000\n",
    "    print(\"Saldo akhir anda {}\".format(saldo))    \n",
    "    \n",
    "else :\n",
    "    print(\"salah input,silahkan input ulang !!!\")      \n",
    "        \n",
    "        \n",
    "        "
   ]
  },
  {
   "cell_type": "code",
   "execution_count": 3,
   "metadata": {},
   "outputs": [
    {
     "name": "stdout",
     "output_type": "stream",
     "text": [
      "jenis kendaraan truk\n",
      "total bayar anda : 7500\n"
     ]
    }
   ],
   "source": [
    "#latiahan fungsi\n",
    "\n",
    "def biasa(tipe,jam='1'):  # argumen  || catatan dalam pemberian nilai default ditaruh sebelah kanan agar tidak terjadi error\n",
    "    c =0\n",
    "    \n",
    "    if tipe == 'mobil':\n",
    "        c = jam * 2000\n",
    "    elif tipe == 'motor':\n",
    "        c =jam * 1000\n",
    "    else :\n",
    "        c = 7500    \n",
    "    return c\n",
    "\n",
    "\n",
    "def langganan(saldo):\n",
    "    sisa = saldo - 5000\n",
    "    return sisa\n",
    "\n",
    "gol = input(\"masukan gologan : \")\n",
    "gol1 = gol.strip().replace(\" \", \"\").lower()\n",
    "\n",
    "if gol1 == 'biasa':\n",
    "    \n",
    "    tipenya = gol = input(\"masukan tipe kendaraan : \")  # input tipe mobil\n",
    "    tipe1 = tipenya.strip().replace(\" \", \"\").lower()\n",
    "    jamnya = int(input(\"masukan jam : \"))   #input jam || parameter\n",
    "    \n",
    "    ongkos = biasa(jam=jamnya,tipe=tipe1)\n",
    "    #ongkos = biasa(jamnya,tipe1)             #untuk melakukan pembalik parameter || ongkos = biasa(argumen : parameter,agumen)\n",
    "    \n",
    "    print(\"jenis kendaraan {}\".format(tipe1))\n",
    "    print(\"total bayar anda : {}\".format(ongkos))\n",
    "\n",
    "\n",
    "elif gol1 == 'langganan':\n",
    "    saldo = 50000\n",
    "    salahir = langganan(saldo)\n",
    "    print(\"saldo anda {}\".format(salahir))\n"
   ]
  },
  {
   "cell_type": "code",
   "execution_count": 3,
   "metadata": {},
   "outputs": [
    {
     "name": "stdout",
     "output_type": "stream",
     "text": [
      "jenis kendaraan mobil\n",
      "total bayar anda : 2000\n"
     ]
    }
   ],
   "source": [
    "#latiahan fungsi\n",
    "#penambahan if\n",
    "\n",
    "def biasa(tipe, jam='1'):  # argumen  || catatan dalam pemberian nilai default ditaruh sebelah kanan agar tidak terjadi error\n",
    "    c = 0\n",
    "    jami = int(jam)\n",
    "    if tipe == 'mobil':\n",
    "        c = jami * 2000\n",
    "    elif tipe == 'motor':\n",
    "        c = jami * 1000\n",
    "    else:\n",
    "        c = 7500\n",
    "    return c\n",
    "\n",
    "\n",
    "def langganan(saldo):\n",
    "    sisa = saldo - 5000\n",
    "    return sisa\n",
    "\n",
    "\n",
    "gol = input(\"masukan gologan : \")\n",
    "gol1 = gol.strip().replace(\" \", \"\").lower()\n",
    "\n",
    "if gol1 == 'biasa':\n",
    "\n",
    "    tipenya = gol = input(\"masukan tipe kendaraan : \")  # input tipe mobil\n",
    "    tipe1 = tipenya.strip().replace(\" \", \"\").lower()\n",
    "    jamnya = input(\"masukan jam : \")  # input jam || parameter\n",
    "    if jamnya :\n",
    "      ongkos = biasa(jamnya, tipe1)\n",
    "    else :\n",
    "        ongkos = biasa(tipe1)\n",
    "        \n",
    "    #ongkos = biasa(jam=jamnya, tipe=tipe1)\n",
    "    #ongkos = biasa(jamnya,tipe1)             #untuk melakukan pembalik parameter || ongkos = biasa(argumen : parameter,agumen)\n",
    "\n",
    "    print(\"jenis kendaraan {}\".format(tipe1))\n",
    "    print(\"total bayar anda : {}\".format(ongkos))\n",
    "\n",
    "\n",
    "elif gol1 == 'langganan':\n",
    "    saldo = 50000\n",
    "    salahir = langganan(saldo)\n",
    "    print(\"saldo anda {}\".format(salahir))\n"
   ]
  },
  {
   "cell_type": "code",
   "execution_count": 27,
   "metadata": {},
   "outputs": [
    {
     "name": "stdout",
     "output_type": "stream",
     "text": [
      "0.4\n",
      "silahkan kode selanjutnya\n"
     ]
    }
   ],
   "source": [
    "\n",
    "try :\n",
    "    a = int(input(\"masukan pembagi : \"))\n",
    "    b = int(input(\"masukan pembilang : \"))\n",
    "    c = a/b\n",
    "    if b == 1:\n",
    "        raise Exception\n",
    "except ZeroDivisionError:\n",
    "    print(\"tidak boleh pembagi 0 !!!\")\n",
    "except ValueError :\n",
    "    print(\"harus angka  !!\")    \n",
    "except Exception:\n",
    "    print(\"00000000  !!\")\n",
    "else :    \n",
    "    print(c)\n",
    "finally :    \n",
    "    print(\"silahkan kode selanjutnya\")\n"
   ]
  },
  {
   "cell_type": "code",
   "execution_count": 13,
   "metadata": {},
   "outputs": [
    {
     "name": "stdout",
     "output_type": "stream",
     "text": [
      "string tidak dapat digabungkan dengan int\n"
     ]
    }
   ],
   "source": [
    "#latihan penanganan error\n",
    "x = '1'\n",
    "try :\n",
    "  \n",
    "    y = 2 + x # pemeroses dan print atau hasilnya\n",
    "    print(y)\n",
    "except TypeError :\n",
    "    print (\"string tidak dapat digabungkan dengan int\")\n",
    "\n"
   ]
  },
  {
   "cell_type": "code",
   "execution_count": 28,
   "metadata": {},
   "outputs": [
    {
     "name": "stdout",
     "output_type": "stream",
     "text": [
      "lanjut program berikutnya\n",
      " y tidak boleh 0 ya .... :)\n"
     ]
    }
   ],
   "source": [
    "\n",
    "try :\n",
    "    x = int(input(\"masukan nilai a : \"))\n",
    "    y = int(input(\"masukan nilai b : \"))    \n",
    "    z = x + y\n",
    "    if y == 2 :\n",
    "        raise Exception\n",
    "except Exception :\n",
    "    print(\"jangan input b = 2 !!\")\n",
    "except ValueError:\n",
    "    print (\"harus int bukan str!!!!!\")\n",
    "else :\n",
    "    (\"hasil {}\".format(z))    \n",
    "finally : ### lanjut atau membersihkan error \n",
    "    print(\"lanjut program berikutnya\")\n",
    "    \n",
    "    \n",
    "try :\n",
    "    z = x / y \n",
    "    print(z)\n",
    "except ZeroDivisionError:\n",
    "    print (\" y tidak boleh 0 ya .... :)\")\n",
    "    \n",
    "    \n"
   ]
  },
  {
   "cell_type": "code",
   "execution_count": 31,
   "metadata": {},
   "outputs": [
    {
     "name": "stdout",
     "output_type": "stream",
     "text": [
      "tes parameter\n",
      "hello hendra\n"
     ]
    }
   ],
   "source": [
    "def tes(parameter):\n",
    "    print(parameter)\n",
    "    return  \n",
    "\n",
    "tes (\"tes parameter\")\n",
    "tes(\"hello hendra\") \n",
    "    "
   ]
  },
  {
   "cell_type": "code",
   "execution_count": 34,
   "metadata": {},
   "outputs": [
    {
     "name": "stdout",
     "output_type": "stream",
     "text": [
      "hasil : 150\n",
      "hasil keluaran : 150\n",
      "hasil 3 adalah 81\n",
      "nilai yang ada dalam fungsi : [10, 20, 30, [12, 3, 5, 6, 7]]\n",
      "nilai : [10, 20, 30, [12, 3, 5, 6, 7]]\n"
     ]
    }
   ],
   "source": [
    "def kali(angka1,angka2):\n",
    "    hasil = angka1 * angka2\n",
    "    print(\"hasil : {}\".format(hasil))\n",
    "    return hasil \n",
    "\n",
    "keluaran = kali (30,5)\n",
    "print(\"hasil keluaran : {}\".format(keluaran))\n",
    "\n",
    "def kuadrat(x):\n",
    "    return x*x \n",
    "a = 3\n",
    "b = kuadrat(x)\n",
    "print(\"hasil {} adalah {}\".format(a,b))\n",
    "\n",
    "\n",
    "def ubah(mylist):\n",
    "    mylist.append([12,3,5,6,7])\n",
    "    print(\"nilai yang ada dalam fungsi : {}\".format(mylist))\n",
    "    \n",
    "mylist= [10,20,30]\n",
    "ubah(mylist)\n",
    "print(\"nilai : {}\".format(mylist))  \n"
   ]
  },
  {
   "cell_type": "code",
   "execution_count": 39,
   "metadata": {},
   "outputs": [
    {
     "name": "stdout",
     "output_type": "stream",
     "text": [
      "nilai yang ada dalam fungsi : [12, 3, 5, 6, 7, [27, 99]]\n",
      "nilai : [10, 20, 30]\n",
      "nilai : [10, 20, 30]\n"
     ]
    }
   ],
   "source": [
    "def ubah(mylist):\n",
    "    mylist=[12, 3, 5, 6, 7]\n",
    "    mylist.append([27,99])\n",
    "    print(\"nilai yang ada dalam fungsi : {}\".format(mylist))\n",
    "\n",
    "\n",
    "mylist = [10, 20, 30]\n",
    "ubah(mylist)\n",
    "print(\"nilai : {}\".format(mylist))\n",
    "print(\"nilai : {}\".format(mylist))\n"
   ]
  }
 ],
 "metadata": {
  "kernelspec": {
   "display_name": "Python 3.9.5 64-bit",
   "language": "python",
   "name": "python3"
  },
  "language_info": {
   "codemirror_mode": {
    "name": "ipython",
    "version": 3
   },
   "file_extension": ".py",
   "mimetype": "text/x-python",
   "name": "python",
   "nbconvert_exporter": "python",
   "pygments_lexer": "ipython3",
   "version": "3.9.5"
  },
  "orig_nbformat": 4,
  "vscode": {
   "interpreter": {
    "hash": "82ed002fa2d4956f5c6aec99bcefe0f73a9f79882f3c9e2319b14958a5896ac5"
   }
  }
 },
 "nbformat": 4,
 "nbformat_minor": 2
}
