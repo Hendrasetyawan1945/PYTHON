{
 "cells": [
  {
   "cell_type": "code",
   "execution_count": 3,
   "metadata": {},
   "outputs": [
    {
     "name": "stdout",
     "output_type": "stream",
     "text": [
      "13000\n"
     ]
    }
   ],
   "source": [
    "#sourcode program pytho parkir menggunakan loop\n",
    "x = input(\"golongan parkir?[langganan/biasa] : \")\n",
    "x1 = x.strip().replace(\" \", \"\").lower()\n",
    "langganan = 50000\n",
    "\n",
    "if x1 == \"biasa\":\n",
    "    ongkos = 3000\n",
    "    jam = int(input(\"Masukan berapa jam anda parkir : ? \"))\n",
    "    for i in range(1,jam):\n",
    "        ongkos += 2000 #looping menghitung seperti fibonaci\n",
    "        if ongkos > 22000 :\n",
    "            ongkos = 20000\n",
    "            break #perhitungan selesai\n",
    "        \n",
    "    print(ongkos) #mencentak ongkos\n",
    "        \n",
    "elif x1 == \"langganan\" :\n",
    "    saldo = langganan - 5000\n",
    "    print(\"Saldo akhir anda {}\".format(saldo))    \n",
    "    \n",
    "else :\n",
    "    print(\"salah input,silahkan input ulang !!!\")      \n",
    "        \n",
    "        \n",
    "        "
   ]
  },
  {
   "cell_type": "code",
   "execution_count": 3,
   "metadata": {},
   "outputs": [
    {
     "name": "stdout",
     "output_type": "stream",
     "text": [
      "jenis kendaraan truk\n",
      "total bayar anda : 7500\n"
     ]
    }
   ],
   "source": [
    "#latiahan fungsi\n",
    "\n",
    "def biasa(tipe,jam='1'):  # argumen  || catatan dalam pemberian nilai default ditaruh sebelah kanan agar tidak terjadi error\n",
    "    c =0\n",
    "    \n",
    "    if tipe == 'mobil':\n",
    "        c = jam * 2000\n",
    "    elif tipe == 'motor':\n",
    "        c =jam * 1000\n",
    "    else :\n",
    "        c = 7500    \n",
    "    return c\n",
    "\n",
    "\n",
    "def langganan(saldo):\n",
    "    sisa = saldo - 5000\n",
    "    return sisa\n",
    "\n",
    "gol = input(\"masukan gologan : \")\n",
    "gol1 = gol.strip().replace(\" \", \"\").lower()\n",
    "\n",
    "if gol1 == 'biasa':\n",
    "    \n",
    "    tipenya = gol = input(\"masukan tipe kendaraan : \")  # input tipe mobil\n",
    "    tipe1 = tipenya.strip().replace(\" \", \"\").lower()\n",
    "    jamnya = int(input(\"masukan jam : \"))   #input jam || parameter\n",
    "    \n",
    "    ongkos = biasa(jam=jamnya,tipe=tipe1)\n",
    "    #ongkos = biasa(jamnya,tipe1)             #untuk melakukan pembalik parameter || ongkos = biasa(argumen : parameter,agumen)\n",
    "    \n",
    "    print(\"jenis kendaraan {}\".format(tipe1))\n",
    "    print(\"total bayar anda : {}\".format(ongkos))\n",
    "\n",
    "\n",
    "elif gol1 == 'langganan':\n",
    "    saldo = 50000\n",
    "    salahir = langganan(saldo)\n",
    "    print(\"saldo anda {}\".format(salahir))\n"
   ]
  },
  {
   "cell_type": "code",
   "execution_count": 1,
   "metadata": {},
   "outputs": [
    {
     "name": "stdout",
     "output_type": "stream",
     "text": [
      "jenis kendaraan mobil\n",
      "total bayar anda : 2000\n"
     ]
    }
   ],
   "source": [
    "#latiahan fungsi\n",
    "#penambahan if\n",
    "\n",
    "\n",
    "\n",
    "\n",
    "def langganan(saldo):\n",
    "    sisa = saldo - 5000\n",
    "    return sisa\n",
    "\n",
    "\n",
    "gol = input(\"masukan gologan : \")\n",
    "gol1 = gol.strip().replace(\" \", \"\").lower()\n",
    "\n",
    "if gol1 == 'biasa':\n",
    "\n",
    "    tipenya = gol = input(\"masukan tipe kendaraan : \")  # input tipe mobil\n",
    "    tipe1 = tipenya.strip().replace(\" \", \"\").lower()\n",
    "    jamnya = input(\"masukan jam : \")  # input jam || parameter\n",
    "    if jamnya :\n",
    "      ongkos = biasa(jamnya, tipe1)\n",
    "    else :\n",
    "        ongkos = biasa(tipe1)\n",
    "        \n",
    "    #ongkos = biasa(jam=jamnya, tipe=tipe1)\n",
    "    #ongkos = biasa(jamnya,tipe1)             #untuk melakukan pembalik parameter || ongkos = biasa(argumen : parameter,agumen)\n",
    "\n",
    "    print(\"jenis kendaraan {}\".format(tipe1))\n",
    "    print(\"total bayar anda : {}\".format(ongkos))\n",
    "\n",
    "\n",
    "elif gol1 == 'langganan':\n",
    "    saldo = 50000\n",
    "    salahir = langganan(saldo)\n",
    "    print(\"saldo anda {}\".format(salahir))\n"
   ]
  },
  {
   "cell_type": "code",
   "execution_count": null,
   "metadata": {},
   "outputs": [],
   "source": []
  }
 ],
 "metadata": {
  "kernelspec": {
   "display_name": "Python 3.9.5 64-bit",
   "language": "python",
   "name": "python3"
  },
  "language_info": {
   "codemirror_mode": {
    "name": "ipython",
    "version": 3
   },
   "file_extension": ".py",
   "mimetype": "text/x-python",
   "name": "python",
   "nbconvert_exporter": "python",
   "pygments_lexer": "ipython3",
   "version": "3.9.5"
  },
  "orig_nbformat": 4,
  "vscode": {
   "interpreter": {
    "hash": "82ed002fa2d4956f5c6aec99bcefe0f73a9f79882f3c9e2319b14958a5896ac5"
   }
  }
 },
 "nbformat": 4,
 "nbformat_minor": 2
}
