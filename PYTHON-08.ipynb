{
 "cells": [
  {
   "cell_type": "markdown",
   "metadata": {},
   "source": [
    "Catatan :\n",
    "Class merupakan suatu cetakan dari objek || aturan dalam pembuatan class huruf awal harus besar\n",
    "construktor || method dipanggil pertama kali saat memnbuat class\n",
    "            || spesial method dipanggil saat instensiasi atau pembuatan objek\n",
    "\n",
    "NB = perbedaan fungsi dan method \n",
    "fungsi = tidak punya Class || method ()\n",
    "method = mempunyai class\n"
   ]
  },
  {
   "cell_type": "code",
   "execution_count": 2,
   "metadata": {},
   "outputs": [
    {
     "name": "stdout",
     "output_type": "stream",
     "text": [
      "biruu\n",
      "tulungagung\n"
     ]
    }
   ],
   "source": [
    "class ManusiaHidup():\n",
    "    \n",
    "    \n",
    "    def __init__(self,nama, alamat): #construktor\n",
    "        self.name = nama  #nama ,adress objeck atribut\n",
    "        self.adress = alamat\n",
    "        \n",
    "aku = ManusiaHidup(\"biruu\",\"tulungagung\")      \n",
    "print(aku.name)  \n",
    "print(aku.adress)\n"
   ]
  },
  {
   "cell_type": "code",
   "execution_count": 16,
   "metadata": {},
   "outputs": [
    {
     "name": "stdout",
     "output_type": "stream",
     "text": [
      "biruu\n",
      "tulungagung\n",
      "2\n",
      "2\n",
      "nama biruu alamat tulungagung jumplah mata 2 dengan tangan 2\n",
      "===========\n",
      "hendra\n",
      "padang\n",
      "2\n"
     ]
    }
   ],
   "source": [
    "class ManusiaHidup():\n",
    "    jumtangan = 2 #class atribut\n",
    "    \n",
    "    def __init__(self,nama, alamat): #construktor\n",
    "        self.name = nama  #nama ,adress objeck atribut\n",
    "        self.adress = alamat\n",
    "        self.jummata = \"2\"\n",
    "        \n",
    "    def __str__(self):\n",
    "        return 'nama {} alamat {} jumplah mata {} dengan tangan {}'.format(self.name,self.adress,self.jumtangan,self.jumtangan)\n",
    "        \n",
    "        \n",
    "aku = ManusiaHidup(\"biruu\",\"tulungagung\")      \n",
    "print(aku.name)  \n",
    "print(aku.adress)\n",
    "print(aku.jummata)\n",
    "print(aku.jumtangan)\n",
    "print(aku)\n",
    "print(\"===========\")\n",
    "kamu = ManusiaHidup(\"hendra\",\"padang\")\n",
    "print(kamu.name)\n",
    "print(kamu.adress)\n",
    "print(kamu.jumtangan)\n"
   ]
  },
  {
   "cell_type": "code",
   "execution_count": 17,
   "metadata": {},
   "outputs": [
    {
     "name": "stdout",
     "output_type": "stream",
     "text": [
      "biruu\n",
      "tulungagung\n",
      "2\n",
      "2\n",
      "nama biruu alamat tulungagung jumplah mata 2 dengan tangan 2\n",
      "Heloo biruu, selamat siang\n"
     ]
    }
   ],
   "source": [
    "class ManusiaHidup():\n",
    "    jumtangan = 2 #class atribut\n",
    "    \n",
    "    def __init__(self,nama, alamat): #construktor\n",
    "        self.name = nama  #nama ,adress objeck atribut\n",
    "        self.adress = alamat\n",
    "        self.jummata = \"2\"\n",
    "        \n",
    "    def hello (self):\n",
    "        return \"Heloo {}, selamat siang\"  .format(self.name)  \n",
    "    def __str__(self):\n",
    "        return 'nama {} alamat {} jumplah mata {} dengan tangan {}'.format(self.name,self.adress,self.jumtangan,self.jumtangan)\n",
    "        \n",
    "        \n",
    "aku = ManusiaHidup(\"biruu\",\"tulungagung\")      \n",
    "print(aku.name)  \n",
    "print(aku.adress)\n",
    "print(aku.jummata)\n",
    "print(aku.jumtangan)\n",
    "print(aku)\n",
    "print(aku.hello())\n"
   ]
  },
  {
   "cell_type": "code",
   "execution_count": null,
   "metadata": {},
   "outputs": [],
   "source": []
  }
 ],
 "metadata": {
  "kernelspec": {
   "display_name": "Python 3.9.5 64-bit",
   "language": "python",
   "name": "python3"
  },
  "language_info": {
   "codemirror_mode": {
    "name": "ipython",
    "version": 3
   },
   "file_extension": ".py",
   "mimetype": "text/x-python",
   "name": "python",
   "nbconvert_exporter": "python",
   "pygments_lexer": "ipython3",
   "version": "3.9.5"
  },
  "orig_nbformat": 4,
  "vscode": {
   "interpreter": {
    "hash": "82ed002fa2d4956f5c6aec99bcefe0f73a9f79882f3c9e2319b14958a5896ac5"
   }
  }
 },
 "nbformat": 4,
 "nbformat_minor": 2
}
