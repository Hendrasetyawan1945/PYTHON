{
 "cells": [
  {
   "cell_type": "markdown",
   "metadata": {},
   "source": [
    "Catatan :\n",
    "Class merupakan suatu cetakan dari objek || aturan dalam pembuatan class huruf awal harus besar\n",
    "construktor || method dipanggil pertama kali saat memnbuat class\n",
    "            || spesial method dipanggil saat instensiasi atau pembuatan objek\n",
    "\n",
    "NB = perbedaan fungsi dan method \n",
    "fungsi = tidak punya Class || method ()\n",
    "method = mempunyai class\n"
   ]
  },
  {
   "cell_type": "code",
   "execution_count": 2,
   "metadata": {},
   "outputs": [
    {
     "name": "stdout",
     "output_type": "stream",
     "text": [
      "biruu\n",
      "tulungagung\n"
     ]
    }
   ],
   "source": [
    "class ManusiaHidup():\n",
    "    \n",
    "    \n",
    "    def __init__(self,nama, alamat): #construktor\n",
    "        self.name = nama  #nama ,adress objeck atribut\n",
    "        self.adress = alamat\n",
    "        \n",
    "aku = ManusiaHidup(\"biruu\",\"tulungagung\")      \n",
    "print(aku.name)  \n",
    "print(aku.adress)\n"
   ]
  },
  {
   "cell_type": "code",
   "execution_count": 16,
   "metadata": {},
   "outputs": [
    {
     "name": "stdout",
     "output_type": "stream",
     "text": [
      "biruu\n",
      "tulungagung\n",
      "2\n",
      "2\n",
      "nama biruu alamat tulungagung jumplah mata 2 dengan tangan 2\n",
      "===========\n",
      "hendra\n",
      "padang\n",
      "2\n"
     ]
    }
   ],
   "source": [
    "class ManusiaHidup():\n",
    "    jumtangan = 2 #class atribut\n",
    "    \n",
    "    def __init__(self,nama, alamat): #construktor\n",
    "        self.name = nama  #nama ,adress objeck atribut\n",
    "        self.adress = alamat\n",
    "        self.jummata = \"2\"\n",
    "        \n",
    "    def __str__(self):\n",
    "        return 'nama {} alamat {} jumplah mata {} dengan tangan {}'.format(self.name,self.adress,self.jumtangan,self.jumtangan)\n",
    "        \n",
    "        \n",
    "aku = ManusiaHidup(\"biruu\",\"tulungagung\")      \n",
    "print(aku.name)  \n",
    "print(aku.adress)\n",
    "print(aku.jummata)\n",
    "print(aku.jumtangan)\n",
    "print(aku)\n",
    "print(\"===========\")\n",
    "kamu = ManusiaHidup(\"hendra\",\"padang\")\n",
    "print(kamu.name)\n",
    "print(kamu.adress)\n",
    "print(kamu.jumtangan)\n"
   ]
  },
  {
   "cell_type": "code",
   "execution_count": 17,
   "metadata": {},
   "outputs": [
    {
     "name": "stdout",
     "output_type": "stream",
     "text": [
      "biruu\n",
      "tulungagung\n",
      "2\n",
      "2\n",
      "nama biruu alamat tulungagung jumplah mata 2 dengan tangan 2\n",
      "Heloo biruu, selamat siang\n"
     ]
    }
   ],
   "source": [
    "class ManusiaHidup():\n",
    "    jumtangan = 2 #class atribut\n",
    "    \n",
    "    def __init__(self,nama, alamat): #construktor\n",
    "        self.name = nama  #nama ,adress objeck atribut\n",
    "        self.adress = alamat\n",
    "        self.jummata = \"2\"\n",
    "        \n",
    "    def hello (self):\n",
    "        return \"Heloo {}, selamat siang\"  .format(self.name)  \n",
    "    def __str__(self):\n",
    "        return 'nama {} alamat {} jumplah mata {} dengan tangan {}'.format(self.name,self.adress,self.jumtangan,self.jumtangan)\n",
    "        \n",
    "        \n",
    "aku = ManusiaHidup(\"biruu\",\"tulungagung\")      \n",
    "print(aku.name)  \n",
    "print(aku.adress)\n",
    "print(aku.jummata)\n",
    "print(aku.jumtangan)\n",
    "print(aku)\n",
    "print(aku.hello())\n"
   ]
  },
  {
   "cell_type": "code",
   "execution_count": 3,
   "metadata": {},
   "outputs": [
    {
     "name": "stdout",
     "output_type": "stream",
     "text": [
      "nama biruu alamat tulungagung jumplah mata 2 dengan tangan 2\n",
      "Heloo biruu, selamat siang\n",
      "perbadingan===========[karena class pegawai mempeunyai yang dipunyai class manusia hidup]\n",
      "nama Shiro alamat tulungagung jumplah mata 2 dengan tangan 2\n",
      "Heloo Shiro, selamat siang\n"
     ]
    }
   ],
   "source": [
    "#Turunan atau pewarisan \n",
    "class ManusiaHidup():\n",
    "    jumtangan = 2  # class atribut\n",
    "\n",
    "    def __init__(self, nama, alamat):  # construktor\n",
    "        self.name = nama  # nama ,adress objeck atribut\n",
    "        self.adress = alamat\n",
    "        self.jummata = \"2\"\n",
    "\n",
    "    def hello(self):\n",
    "        return \"Heloo {}, selamat siang\"  .format(self.name)\n",
    "\n",
    "    def __str__(self):\n",
    "        return 'nama {} alamat {} jumplah mata {} dengan tangan {}'.format(self.name, self.adress, self.jumtangan, self.jumtangan)\n",
    "\n",
    "class Pegawai(ManusiaHidup): #class turunan dari class manusia hidup\n",
    "        pass #class mencangkup semua yang dimiliki class pegawai karena merupakan turunan\n",
    "    \n",
    "you = ManusiaHidup(\"biruu\", \"tulungagung\")\n",
    "print(you)\n",
    "print(you.hello())\n",
    "print(\"perbadingan===========[karena class pegawai mempeunyai yang dipunyai class manusia hidup]\")\n",
    "ai = ManusiaHidup(\"Shiro\", \"tulungagung\")\n",
    "print(ai)\n",
    "print(ai.hello())\n"
   ]
  },
  {
   "cell_type": "code",
   "execution_count": 12,
   "metadata": {},
   "outputs": [
    {
     "name": "stdout",
     "output_type": "stream",
     "text": [
      "nama Shiro alamat tulungagung jumplah mata 2 dengan tangan 2\n",
      "Selamat siang Shiro bagaimana kabarnya?\n"
     ]
    }
   ],
   "source": [
    "#Turunan atau pewarisan \n",
    "class ManusiaHidup:\n",
    "    jumtangan = 2  # class atribut\n",
    "\n",
    "    def __init__(self, nama, alamat):  # construktor\n",
    "        self.name = nama  # nama ,adress objeck atribut\n",
    "        self.adress = alamat\n",
    "        self.jummata = \"2\"\n",
    "\n",
    "    def hello(self):\n",
    "        return \"Heloo {}, selamat siang\"  .format(self.name)\n",
    "\n",
    "    def __str__(self):\n",
    "        return 'nama {} alamat {} jumplah mata {} dengan tangan {}'.format(self.name, self.adress, self.jumtangan, self.jumtangan)\n",
    "\n",
    "class Hidup:\n",
    "    def hello(self):\n",
    "        return \"Selamat siang {} bagaimana kabarnya?\".format(self.name)\n",
    "    \n",
    "class Pegawai(Hidup,ManusiaHidup): #class turunan dari class manusia hidup\n",
    "        pass #class mencangkup semua yang dimiliki class pegawai karena merupakan turunan\n",
    "#NB : catatan dalam penggunaan python menggunakan MRO yaitu pengeksekusian kiri terlebih dahulu \n",
    "#Misal dalam case class Pegawai(Hidup, ManusiaHidup):karena ada 2 fungsi hello maka akan mencetak di hello hidup\n",
    "\n",
    "ai = Pegawai(\"Shiro\", \"tulungagung\")\n",
    "print(ai)\n",
    "print(ai.hello())\n"
   ]
  },
  {
   "cell_type": "code",
   "execution_count": 20,
   "metadata": {},
   "outputs": [
    {
     "name": "stdout",
     "output_type": "stream",
     "text": [
      "Selamat siang umat manusia bagaimana kabarnya?\n",
      "Memiliki kemampuan spesial berubah menjadi Ulatramen\n"
     ]
    }
   ],
   "source": [
    "#Turunan atau pewarisan\n",
    "class ManusiaHidup:\n",
    "    jumtangan = 2  # class atribut\n",
    "\n",
    "    def __init__(self, nama, alamat):  # construktor\n",
    "        self.name = nama  # nama ,adress objeck atribut\n",
    "        self.adress = alamat\n",
    "        self.jummata = \"2\"\n",
    "\n",
    "    def hello(self):\n",
    "        return \"Heloo {}, selamat siang\"  .format(self.name)\n",
    "\n",
    "    def __str__(self):\n",
    "        return 'nama {} alamat {} jumplah mata {} dengan tangan {}'.format(self.name, self.adress, self.jumtangan, self.jumtangan)\n",
    "\n",
    "    def kemampuan(self):\n",
    "        return \"Memiliki kemampuan spesial berubah menjadi {}\".format(\"Ulatramen\")\n",
    "    \n",
    "class Hidup:\n",
    "    def __init__(self,jk):\n",
    "        self.gender = jk\n",
    "    \n",
    "    def hello(self):\n",
    "        return \"Selamat siang {} bagaimana kabarnya?\".format(\"umat manusia\")\n",
    "\n",
    "\n",
    "class Pegawai(Hidup, ManusiaHidup):  # class turunan dari class manusia hidup\n",
    "    pass  # class mencangkup semua yang dimiliki class pegawai karena merupakan turunan\n",
    "\n",
    "\n",
    "\n",
    "ai = Pegawai('Laki')\n",
    "print(ai.hello())\n",
    "print(ai.kemampuan())\n"
   ]
  },
  {
   "cell_type": "code",
   "execution_count": 28,
   "metadata": {},
   "outputs": [
    {
     "name": "stdout",
     "output_type": "stream",
     "text": [
      "Laki-laki heheheehheh\n",
      "Selamat siang umat manusia bagaimana kabarnya?\n",
      "Memiliki kemampuan spesial berubah menjadi Ulatramen\n"
     ]
    }
   ],
   "source": [
    "#Turunan atau pewarisan\n",
    "class ManusiaHidup:\n",
    "    jumtangan = 2  # class atribut\n",
    "\n",
    "    def __init__(self, nama, alamat):  # construktor\n",
    "        self.name = nama  # nama ,adress objeck atribut\n",
    "        self.adress = alamat\n",
    "        self.jummata = \"2\"\n",
    "\n",
    "    def hello(self):\n",
    "        return \"Heloo {}, selamat siang\"  .format(self.name)\n",
    "\n",
    "    def __str__(self):\n",
    "        return 'nama {} alamat {} jumplah mata {} dengan tangan {}'.format(self.name, self.adress, self.jumtangan, self.jumtangan)\n",
    "\n",
    "    def kemampuan(self):\n",
    "        return \"Memiliki kemampuan spesial berubah menjadi {}\".format(\"Ulatramen\")\n",
    "\n",
    "\n",
    "class Hidup:\n",
    "    def __init__(self, jk):\n",
    "        self.gender = jk + \" heheheehheh\"\n",
    "\n",
    "    def hello(self):\n",
    "        return \"Selamat siang {} bagaimana kabarnya?\".format(\"umat manusia\")\n",
    "    \n",
    "    def __str__(self):\n",
    "        return self.gender\n",
    "\n",
    "class Pegawai(Hidup, ManusiaHidup): \n",
    "    def __init__(self, jeniskel,nama, alamat):\n",
    "        self.name = nama\n",
    "        self.adress = alamat\n",
    "        self.jummata = \"duaa\"\n",
    "        super().__init__(jeniskel)\n",
    "\n",
    "aku = Pegawai('Laki-laki','Suharto','Citayem')\n",
    "print(aku)\n",
    "print(aku.hello())\n",
    "print(aku.kemampuan())\n"
   ]
  },
  {
   "cell_type": "code",
   "execution_count": 8,
   "metadata": {},
   "outputs": [
    {
     "name": "stdout",
     "output_type": "stream",
     "text": [
      "Heloo Suharto, selamat siang\n",
      "nama Suharto alamat Citayem jumplah mata 2 dengan tangan 2\n",
      "tidur selama 7 jam\n"
     ]
    }
   ],
   "source": [
    "#Turunan atau pewarisan\n",
    "class ManusiaHidup:\n",
    "    jumtangan = 2  # class atribut\n",
    "\n",
    "    def __init__(self, nama, alamat):  # construktor\n",
    "        self.name = nama  # nama ,adress objeck atribut\n",
    "        self.adress = alamat\n",
    "        self.jummata = \"2\"\n",
    "\n",
    "    def hello(self):\n",
    "        return \"Heloo {}, selamat siang\"  .format(self.name)\n",
    "\n",
    "    def __str__(self):\n",
    "        return 'nama {} alamat {} jumplah mata {} dengan tangan {}'.format(self.name, self.adress, self.jumtangan, self.jumtangan)\n",
    "\n",
    "    def kemampuan(self):\n",
    "        return \"Memiliki kemampuan spesial berubah menjadi {}\".format(\"Ulatramen\")\n",
    "\n",
    "\n",
    "class Hidup:\n",
    "    def __init__(self, jk):\n",
    "        self.gender = jk + \" heheheehheh\"\n",
    "\n",
    "    def hello(self):\n",
    "        return \"Selamat siang {} bagaimana kabarnya?\".format(\"umat manusia\")\n",
    "\n",
    "    def __str__(self):\n",
    "        return self.gender\n",
    "\n",
    "\n",
    "class Pegawai(ManusiaHidup):\n",
    "    def __init__(self, nama, alamat,jamtidur):\n",
    "        self.name = \"nama : \" + nama\n",
    "        self.adress = \"alamat : \" + \"alamat\"\n",
    "        self.tidur = \"tidur selama \" + jamtidur + \" jam\"\n",
    "        super().__init__(nama,alamat)\n",
    "        print(super().hello())\n",
    "\n",
    "\n",
    "aku = Pegawai('Suharto','Citayem', '7')\n",
    "print(aku)\n",
    "print(aku.tidur)\n",
    "\n"
   ]
  }
 ],
 "metadata": {
  "kernelspec": {
   "display_name": "Python 3.9.5 64-bit",
   "language": "python",
   "name": "python3"
  },
  "language_info": {
   "codemirror_mode": {
    "name": "ipython",
    "version": 3
   },
   "file_extension": ".py",
   "mimetype": "text/x-python",
   "name": "python",
   "nbconvert_exporter": "python",
   "pygments_lexer": "ipython3",
   "version": "3.9.5"
  },
  "orig_nbformat": 4,
  "vscode": {
   "interpreter": {
    "hash": "82ed002fa2d4956f5c6aec99bcefe0f73a9f79882f3c9e2319b14958a5896ac5"
   }
  }
 },
 "nbformat": 4,
 "nbformat_minor": 2
}
