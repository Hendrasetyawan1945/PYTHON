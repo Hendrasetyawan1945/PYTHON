{
 "cells": [
  {
   "cell_type": "code",
   "execution_count": null,
   "metadata": {},
   "outputs": [],
   "source": [
    "#LIST BELAJAR TUPLE"
   ]
  },
  {
   "cell_type": "code",
   "execution_count": 7,
   "metadata": {},
   "outputs": [
    {
     "name": "stdout",
     "output_type": "stream",
     "text": [
      "<class 'tuple'>\n",
      "<class 'tuple'>\n",
      "<class 'list'>\n",
      "[1, 2, 4, 'hrhr', 1, 2, 1, 1, 1, 'biru']\n",
      "===========================\n",
      "<class 'tuple'>\n",
      "(1, 2, 4, 'hrhr', 1, 2, 1, 1, 1, 'biru')\n",
      "count() || untuk menghitung \n",
      "5\n",
      "len() || jumlah deret dalam tuple\n",
      "10\n"
     ]
    }
   ],
   "source": [
    "\n",
    "x=(1,2,4,\"hrhr\",1,2,1,1,1)\n",
    "print(type(x))\n",
    "\n",
    "print (type(y))\n",
    "\n",
    "\n",
    "#membalik atau mengubah tuple menjadi list\n",
    "x1 = list(x)\n",
    "print(type(x1))\n",
    "x1.append('biru')\n",
    "print (x1)\n",
    "\n",
    "print(\"===========================\")\n",
    "#mengembalikan list ke tuple\n",
    "x=tuple(x1)\n",
    "print(type(x))\n",
    "print(x)\n",
    "\n",
    "#fungsi yang ada pada tuple\n",
    "#count() || untuk menghitung \n",
    "print(\"count() || untuk menghitung \")\n",
    "print(x.count(1)) # masukan index atau karakter yang akan dihitung atau dicari jumpahnya\n",
    "\n",
    "#len() || jumlah deret dalam tuple\n",
    "print(\"len() || jumlah deret dalam tuple\")\n",
    "print(len(x))\n",
    "\n",
    "\n",
    "\n"
   ]
  },
  {
   "cell_type": "code",
   "execution_count": 15,
   "metadata": {},
   "outputs": [
    {
     "name": "stdout",
     "output_type": "stream",
     "text": [
      "Replikasi Tuple \n",
      "(1, 2, 3, 4, 5, 6, 7, 3, 4, 5, 6, 7, 8)\n",
      "3 x tuple 3\n",
      "(1, 2, 3, 4, 5, 6, 7, 3, 4, 5, 6, 7, 8)\n",
      "mochi\n",
      "kuning\n",
      "['tidur', 'jantan']\n",
      "data kucing mochi\n",
      "data kucing kuning\n",
      "data kucing tidur\n",
      "data kucing jantan\n"
     ]
    }
   ],
   "source": [
    "#Replikasi\n",
    "print(\"Replikasi Tuple \")\n",
    "t1 =(1,2,3,4,5,6,7)\n",
    "t2=(3,4,5,6,7,8)\n",
    "t3=t1 + t2 \n",
    "print(t3)\n",
    "\n",
    "t4 = 3*t3\n",
    "print(\"3 x tuple 3\")\n",
    "print(t3)\n",
    "\n",
    "# multiple variable\n",
    "kucing = ('mochi','kuning','tidur','jantan')\n",
    "(nama,warna,*suka)= kucing\n",
    "print(nama)\n",
    "print(warna)\n",
    "print(suka)\n",
    "\n",
    "for i in kucing :\n",
    "    print(\"data kucing {}\". format(i))\n",
    "\n"
   ]
  },
  {
   "cell_type": "code",
   "execution_count": null,
   "metadata": {},
   "outputs": [],
   "source": [
    "y = tuple(input(\"Masukan tuple : \"))\n",
    "print(y)\n"
   ]
  },
  {
   "cell_type": "code",
   "execution_count": 26,
   "metadata": {},
   "outputs": [
    {
     "name": "stdout",
     "output_type": "stream",
     "text": [
      "{'siang', 'malam', 'pagi', 'sore'}\n",
      "Type s1 adalah  <class 'set'>\n",
      "{1, 2, 3, 5, 6, 7}\n",
      "Type s2 adalah  <class 'set'>\n",
      "menambahkan set || add()\n",
      "{'pagi', 'sore', 'malam', 'siang', 'subuh'}\n",
      "Melakukan penghapusan set || pop()\n",
      "{'sore', 'malam', 'siang', 'subuh'}\n",
      "Untuk solusi ingin menghapus yang dituju menggunakan || discard//index yang ingin dihapus//\n",
      "{'sore', 'siang', 'subuh'}\n",
      "{2, 3, 5, 6, 7}\n"
     ]
    }
   ],
   "source": [
    "#belajar set ==\n",
    "#catatan dalam set tidak ada index ketika di inputkan maka akan acak\n",
    "#tetapi ketika menginputkan suatau charakter integer dan float maka tidak akan berubah\n",
    "#atau tidak acak\n",
    "s1 = set(('pagi','siang','sore','malam'))\n",
    "s2 = set((1,2,3,5,2,6,1,7))\n",
    "print(s1)\n",
    "print(\"Type s1 adalah \",type(s1))\n",
    "print(s2)\n",
    "print(\"Type s2 adalah \",type(s2))\n",
    "\n",
    "#menambahkan set || add()\n",
    "#dalam set letaknya akan acak ketika penambahan\n",
    "s1.add('subuh')\n",
    "print(\"menambahkan set || add()\")\n",
    "print(s1)\n",
    "\n",
    "#Melakukan penghapusan set || pop()\n",
    "#acak ketika melakukan suatu penghapusan\n",
    "s1.pop()\n",
    "print(\"Melakukan penghapusan set || pop()\")\n",
    "print(s1)\n",
    "\n",
    "#Untuk solusi ingin menghapus yang dituju menggunakan || discard(\"index yang ingin dihapus\")\n",
    "print(\"Untuk solusi ingin menghapus yang dituju menggunakan || discard//index yang ingin dihapus//\")\n",
    "s1.discard('malam')\n",
    "print(s1)\n",
    "s2.discard(1)\n",
    "print(s2)\n",
    "\n",
    "\n"
   ]
  },
  {
   "cell_type": "code",
   "execution_count": 28,
   "metadata": {},
   "outputs": [
    {
     "name": "stdout",
     "output_type": "stream",
     "text": [
      "{'kamis', 'selasa', 'senin'}\n"
     ]
    }
   ],
   "source": [
    "hari = set (('senin','selasa','rabu','kamis'))\n",
    "if 'rabu' in hari:\n",
    "   hari.remove('rabu')\n",
    "   print(hari) \n",
    "   "
   ]
  }
 ],
 "metadata": {
  "kernelspec": {
   "display_name": "Python 3.9.5 64-bit",
   "language": "python",
   "name": "python3"
  },
  "language_info": {
   "codemirror_mode": {
    "name": "ipython",
    "version": 3
   },
   "file_extension": ".py",
   "mimetype": "text/x-python",
   "name": "python",
   "nbconvert_exporter": "python",
   "pygments_lexer": "ipython3",
   "version": "3.9.5"
  },
  "orig_nbformat": 4,
  "vscode": {
   "interpreter": {
    "hash": "82ed002fa2d4956f5c6aec99bcefe0f73a9f79882f3c9e2319b14958a5896ac5"
   }
  }
 },
 "nbformat": 4,
 "nbformat_minor": 2
}
