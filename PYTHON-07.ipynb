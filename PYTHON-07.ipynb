{
 "cells": [
  {
   "cell_type": "code",
   "execution_count": 5,
   "metadata": {},
   "outputs": [
    {
     "name": "stdout",
     "output_type": "stream",
     "text": [
      "membuat objek baru\n",
      "membuat objek baru\n",
      "Black\n",
      "Mochi\n"
     ]
    }
   ],
   "source": [
    "class kucing : #class\n",
    "    def __init__(self):  # untuk melakukan pengubahan sebuah fungsi maka diperlukan fungsi\n",
    "        print(\"membuat objek baru\")\n",
    "    \n",
    "   # pass # gantikan dengan pernyataan-pernyataan, misal: atribut atau metode\n",
    "\n",
    "cat1 = kucing() #objek || mencetak objek baru sebanyak objek\n",
    "cat2 = kucing()\n",
    "\n",
    "#cat1.name = \"Black\" # atribut\n",
    "#cat2.name = \"Mochi\"\n",
    "\n",
    "print(cat1.name)\n",
    "print(cat2.name)\n"
   ]
  },
  {
   "cell_type": "code",
   "execution_count": 10,
   "metadata": {},
   "outputs": [
    {
     "name": "stdout",
     "output_type": "stream",
     "text": [
      "1\n",
      "2\n",
      "3\n"
     ]
    }
   ],
   "source": [
    "class kucing:  # class \n",
    "    total = 0 #variabel === milik dari kucing\n",
    "    #penggunaan misal menghitung user yang sudah adalah\n",
    "    \n",
    "    \n",
    "    def __init__(self,name,warna,makan):  \n",
    "        self.name = name # name dibelakang sebagai parameter seperti di atas\n",
    "        #self.name merupakan atribut dari user\n",
    "        self.warna = warna\n",
    "        self.makan = makan # variabel yg berlaku dari atribut || instanace variabel = hannya berlaku unt masing\" instance  \n",
    "                          # class variabel nilainya berlaku lingkup class\n",
    "        kucing.total +=1\n",
    "   \n",
    "\n",
    "cat1 = kucing(\"black\",\"hitam\",\"wiskas\")  # objek || mencetak objek baru sebanyak objek\n",
    "print(kucing.total)\n",
    "cat2 = kucing(\"uning\", \"kuning\",\"wiskas\")\n",
    "print(kucing.total)\n",
    "cat3 = kucing(\"putih\", \"putih hitam\", \"snak\")\n",
    "print(kucing.total)\n",
    "#cat1.name = \"Black\" # atribut || instance\n",
    "#cat2.name = \"Mochi\"\n",
    "\n",
    "#print(cat1.name)\n",
    "#print(cat1.warna)\n",
    "#print(cat1.__dict__)\n",
    "\n",
    "\n",
    "#print(cat2.__dict__)\n",
    "\n",
    "\n",
    "#print(cat3.__dict__)\n",
    "\n"
   ]
  },
  {
   "cell_type": "markdown",
   "metadata": {},
   "source": [
    "konstruktor = merupakan suatu metode yang ada dalam sebuah class,metode tsb dijalankan pertama kali saat kita membuat objek\n",
    "dari suatu class\n",
    "proses membuat objek dalam suatu class dinamakan Inheritance // pewarisan\n",
    "construktor berguna untuk membuat suatu objek baru"
   ]
  },
  {
   "cell_type": "code",
   "execution_count": 11,
   "metadata": {},
   "outputs": [
    {
     "name": "stdout",
     "output_type": "stream",
     "text": [
      "biruu = 2019610077 = 8 ,lulus\n",
      "hendra = 2019610004 = 7 ,cumlaude\n",
      "black = 2019610099 = 7 ,lulus\n"
     ]
    }
   ],
   "source": [
    "class mhs :\n",
    "    jum = 0\n",
    "    \n",
    "    def __init__(self, nama, nim,semester,status):\n",
    "        self.nama = nama\n",
    "        self.nim = nim\n",
    "        self.semester = semester\n",
    "        self.status = status\n",
    "        mhs.jum += 1\n",
    "        \n",
    "    def data(self): #print data atau objek\n",
    "        return f\"{self.nama} = {self.nim} = {self.semester} ,{self.status}\"\n",
    "    \n",
    "    \n",
    "    def update_status(self, new_status): #update status\n",
    "        if self.status != \"lulus\": # kondisi\n",
    "            self.status = new_status\n",
    "    \n",
    "        \n",
    "biru = mhs (\"biruu\",2019610077,8,\"belum lulus\")\n",
    "biru.update_status(\"lulus\")\n",
    "print(biru.data())\n",
    "\n",
    "hendra = mhs(\"hendra\",2019610004,7,\"lulus\")   \n",
    "hendra.status = \"cumlaude\" \n",
    "print(hendra.data())\n",
    "\n",
    "black = mhs(\"black\", 2019610099, 7, \"belum lulus\")\n",
    "black.update_status(\"lulus\")\n",
    "print(black.data())\n",
    "    "
   ]
  },
  {
   "cell_type": "code",
   "execution_count": 21,
   "metadata": {},
   "outputs": [
    {
     "name": "stdout",
     "output_type": "stream",
     "text": [
      "{'nama': 'biruu', 'nim': 2019610077, 'semester': 8, '_mhs__status': 'sempurna'}\n",
      "sempurna\n",
      "sempurna\n"
     ]
    },
    {
     "data": {
      "text/plain": [
       "'\\nhendra = mhs(\"hendra\", 2019610004, 7, \"lulus\")\\nhendra.status = \"cumlaude\"\\nprint(hendra.data())\\n\\nblack = mhs(\"black\", 2019610099, 7, \"belum lulus\")\\nblack.update_status(\"lulus\")\\nprint(black.data())\\n'"
      ]
     },
     "execution_count": 21,
     "metadata": {},
     "output_type": "execute_result"
    }
   ],
   "source": [
    "#private atribut\n",
    "class mhs:\n",
    "    jum = 0\n",
    "\n",
    "    def __init__(self, nama, nim, semester, status):\n",
    "        self.nama = nama\n",
    "        self.nim = nim\n",
    "        self.semester = semester\n",
    "        self.__status = status #private variabel || atribut || tidak bisa diakases diluar class\n",
    "        mhs.jum += 1\n",
    "\n",
    "    def data(self):  # print data atau objek\n",
    "        return f\"{self.nama} = {self.nim} = {self.semester} ,{self.__status}\"\n",
    "\n",
    "    def update_status(self, new_status):  # update status\n",
    "        if self.__status != \"lulus\":  # kondisi\n",
    "            self.__status = new_status\n",
    "    \n",
    "    \n",
    "    def getstatus(self)    : # pemangginal status\n",
    "        return self.__status    \n",
    "\n",
    "\n",
    "biru = mhs(\"biruu\", 2019610077, 8, \"belum lulus\")\n",
    "biru._mhs__status = \"sempurna\"\n",
    "print(biru.__dict__)\n",
    "print(biru._mhs__status)\n",
    "print(biru.getstatus())\n",
    "\n",
    "#biru.update_status(\"lulus\")\n",
    "#print(biru.data())\n",
    "'''\n",
    "hendra = mhs(\"hendra\", 2019610004, 7, \"lulus\")\n",
    "hendra.status = \"cumlaude\"\n",
    "print(hendra.data())\n",
    "\n",
    "black = mhs(\"black\", 2019610099, 7, \"belum lulus\")\n",
    "black.update_status(\"lulus\")\n",
    "print(black.data())\n",
    "'''"
   ]
  },
  {
   "cell_type": "code",
   "execution_count": 33,
   "metadata": {},
   "outputs": [
    {
     "name": "stdout",
     "output_type": "stream",
     "text": [
      "lulust\n",
      "{'nama': 'biruu', 'nim': 2019610077, 'semester': 8, '_mhs__status': 'lulust'}\n",
      "biruu = 2019610077 = 8 ,hahahahahhah\n"
     ]
    }
   ],
   "source": [
    "#private atribut\n",
    "class mhs:\n",
    "    jum = 0\n",
    "\n",
    "    def __init__(self, nama, nim, semester, status):\n",
    "        self.nama = nama\n",
    "        self.nim = nim\n",
    "        self.semester = semester\n",
    "        self.__status = status  # private variabel || atribut || tidak bisa diakases diluar class\n",
    "        mhs.jum += 1\n",
    "\n",
    "    def data(self):  # print data atau objek\n",
    "        return f\"{self.nama} = {self.nim} = {self.semester} ,{self.__status}\"\n",
    "    \n",
    "    @property\n",
    "    def status(self):\n",
    "        return self.__status\n",
    "    \n",
    "    @status.setter\n",
    "    def status(self, new_status):  # update status #parameter\n",
    "        if self.__status != \"lulus\":  # kondisi\n",
    "            self.__status = new_status\n",
    "\n",
    "    def getstatus(self):  # pemangginal status\n",
    "        return self.__status\n",
    "\n",
    "\n",
    "biru = mhs(\"biruu\", 2019610077, 8, \"lulust\")\n",
    "print(biru.status)\n",
    "print(biru.__dict__)\n",
    "biru.status = \"hahahahahhah\"\n",
    "print(biru.data())\n",
    "\n",
    "\n",
    "\n"
   ]
  },
  {
   "cell_type": "code",
   "execution_count": 38,
   "metadata": {},
   "outputs": [
    {
     "name": "stdout",
     "output_type": "stream",
     "text": [
      "3\n",
      "10\n"
     ]
    }
   ],
   "source": [
    "# metode\n",
    "#private atribut\n",
    "class mhs:\n",
    "    jum = 0\n",
    "\n",
    "    def __init__(self, nama, nim, semester, status):\n",
    "        self.nama = nama\n",
    "        self.nim = nim\n",
    "        self.semester = semester\n",
    "        self.__status = status  # private variabel || atribut || tidak bisa diakases diluar class\n",
    "        mhs.jum += 1\n",
    "\n",
    "    def data(self):  # print data atau objek\n",
    "        return f\"{self.nama} = {self.nim} = {self.semester} ,{self.__status}\"\n",
    "\n",
    "    @property\n",
    "    def status(self):\n",
    "        return self.__status\n",
    "\n",
    "    @status.setter\n",
    "    def status(self, new_status):  # update status #parameter\n",
    "        if self.__status != \"lulus\":  # kondisi\n",
    "            self.__status = new_status\n",
    "\n",
    "    @classmethod #dekorator\n",
    "    def setjum(cls, jum): #cls mengacu pada mhs\n",
    "        mhs.jum = jum          #self mengacu instace dari kelas || mhs bisa di ubah cls\n",
    "\n",
    "\n",
    "biru = mhs(\"biruu\", 2019610077, 8, \"lulust\")\n",
    "hendra = mhs(\"hendra\", 2019610004, 7, \"lulus\")\n",
    "black = mhs(\"black\", 2019610099, 7, \"belum lulus\")\n",
    "print(mhs.jum)\n",
    "mhs.setjum(10)\n",
    "print(mhs.jum)\n",
    "\n",
    "\n"
   ]
  }
 ],
 "metadata": {
  "kernelspec": {
   "display_name": "Python 3.9.5 64-bit",
   "language": "python",
   "name": "python3"
  },
  "language_info": {
   "codemirror_mode": {
    "name": "ipython",
    "version": 3
   },
   "file_extension": ".py",
   "mimetype": "text/x-python",
   "name": "python",
   "nbconvert_exporter": "python",
   "pygments_lexer": "ipython3",
   "version": "3.9.5"
  },
  "orig_nbformat": 4,
  "vscode": {
   "interpreter": {
    "hash": "82ed002fa2d4956f5c6aec99bcefe0f73a9f79882f3c9e2319b14958a5896ac5"
   }
  }
 },
 "nbformat": 4,
 "nbformat_minor": 2
}
